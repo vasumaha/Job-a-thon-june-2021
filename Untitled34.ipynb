{
 "cells": [
  {
   "cell_type": "code",
   "execution_count": 1,
   "metadata": {
    "id": "CmusjfoDqis-"
   },
   "outputs": [],
   "source": [
    "#import libaries\n",
    "import numpy as np\n",
    "import pandas as pd\n",
    "import re,os,time,gc\n",
    "from datetime import datetime\n",
    "import warnings\n",
    "warnings.filterwarnings('ignore')\n",
    "from collections import Counter\n",
    "# visualisation\n",
    "# import matplotlib\n",
    "import matplotlib.pyplot as plt\n",
    "import seaborn as sns\n",
    "%matplotlib inline"
   ]
  },
  {
   "cell_type": "markdown",
   "metadata": {
    "id": "kwhURZFxTU4s"
   },
   "source": [
    "# User data"
   ]
  },
  {
   "cell_type": "code",
   "execution_count": 2,
   "metadata": {
    "id": "CiBh3lzGTA65"
   },
   "outputs": [],
   "source": [
    "user_tab=pd.read_csv(\"userTable.csv\")"
   ]
  },
  {
   "cell_type": "code",
   "execution_count": 3,
   "metadata": {
    "id": "0SmxzUElTySs"
   },
   "outputs": [],
   "source": [
    "user_tab['Signup Date']=user_tab['Signup Date'].astype('datetime64[ns]')"
   ]
  },
  {
   "cell_type": "code",
   "execution_count": 4,
   "metadata": {
    "colab": {
     "base_uri": "https://localhost:8080/",
     "height": 195
    },
    "id": "A1KnLKaYTbAQ",
    "outputId": "491a179b-ee49-4964-f91f-9b3524669e01"
   },
   "outputs": [
    {
     "data": {
      "text/html": [
       "<div>\n",
       "<style scoped>\n",
       "    .dataframe tbody tr th:only-of-type {\n",
       "        vertical-align: middle;\n",
       "    }\n",
       "\n",
       "    .dataframe tbody tr th {\n",
       "        vertical-align: top;\n",
       "    }\n",
       "\n",
       "    .dataframe thead th {\n",
       "        text-align: right;\n",
       "    }\n",
       "</style>\n",
       "<table border=\"1\" class=\"dataframe\">\n",
       "  <thead>\n",
       "    <tr style=\"text-align: right;\">\n",
       "      <th></th>\n",
       "      <th>UserID</th>\n",
       "      <th>Signup Date</th>\n",
       "      <th>User Segment</th>\n",
       "    </tr>\n",
       "  </thead>\n",
       "  <tbody>\n",
       "    <tr>\n",
       "      <th>0</th>\n",
       "      <td>U133159</td>\n",
       "      <td>2018-04-14 07:01:16.202607</td>\n",
       "      <td>C</td>\n",
       "    </tr>\n",
       "    <tr>\n",
       "      <th>1</th>\n",
       "      <td>U129368</td>\n",
       "      <td>2017-12-02 09:38:41.584270</td>\n",
       "      <td>B</td>\n",
       "    </tr>\n",
       "    <tr>\n",
       "      <th>2</th>\n",
       "      <td>U109654</td>\n",
       "      <td>2013-03-19 11:38:55.000000</td>\n",
       "      <td>B</td>\n",
       "    </tr>\n",
       "    <tr>\n",
       "      <th>3</th>\n",
       "      <td>U108998</td>\n",
       "      <td>2018-01-18 08:29:51.627954</td>\n",
       "      <td>C</td>\n",
       "    </tr>\n",
       "    <tr>\n",
       "      <th>4</th>\n",
       "      <td>U131393</td>\n",
       "      <td>2018-03-27 08:05:28.806800</td>\n",
       "      <td>B</td>\n",
       "    </tr>\n",
       "  </tbody>\n",
       "</table>\n",
       "</div>"
      ],
      "text/plain": [
       "    UserID                Signup Date User Segment\n",
       "0  U133159 2018-04-14 07:01:16.202607            C\n",
       "1  U129368 2017-12-02 09:38:41.584270            B\n",
       "2  U109654 2013-03-19 11:38:55.000000            B\n",
       "3  U108998 2018-01-18 08:29:51.627954            C\n",
       "4  U131393 2018-03-27 08:05:28.806800            B"
      ]
     },
     "execution_count": 4,
     "metadata": {},
     "output_type": "execute_result"
    }
   ],
   "source": [
    "user_tab.head()"
   ]
  },
  {
   "cell_type": "code",
   "execution_count": 5,
   "metadata": {
    "colab": {
     "base_uri": "https://localhost:8080/"
    },
    "id": "wU_lzKLQTpfH",
    "outputId": "0f0f9f06-870f-48ec-af58-ede212dbd3be"
   },
   "outputs": [
    {
     "name": "stdout",
     "output_type": "stream",
     "text": [
      "<class 'pandas.core.frame.DataFrame'>\n",
      "RangeIndex: 34050 entries, 0 to 34049\n",
      "Data columns (total 3 columns):\n",
      " #   Column        Non-Null Count  Dtype         \n",
      "---  ------        --------------  -----         \n",
      " 0   UserID        34050 non-null  object        \n",
      " 1   Signup Date   34050 non-null  datetime64[ns]\n",
      " 2   User Segment  34050 non-null  object        \n",
      "dtypes: datetime64[ns](1), object(2)\n",
      "memory usage: 798.2+ KB\n"
     ]
    }
   ],
   "source": [
    "user_tab.info()"
   ]
  },
  {
   "cell_type": "code",
   "execution_count": 6,
   "metadata": {
    "colab": {
     "base_uri": "https://localhost:8080/"
    },
    "id": "TULEtlklUB6Q",
    "outputId": "0a8134bd-8872-483d-ff5a-84189f3d49f5"
   },
   "outputs": [
    {
     "name": "stdout",
     "output_type": "stream",
     "text": [
      "No.of UserIDs: 34050\n",
      "End_Date_Time  : 2018-05-20 07:06:47.531020\n",
      "Start_Date_Time: 2010-12-01 03:11:51\n"
     ]
    }
   ],
   "source": [
    "print(\"No.of UserIDs:\",user_tab['UserID'].nunique())\n",
    "\n",
    "print(\"End_Date_Time  :\",user_tab['Signup Date'].max())\n",
    "\n",
    "print(\"Start_Date_Time:\",user_tab['Signup Date'].min())"
   ]
  },
  {
   "cell_type": "code",
   "execution_count": 7,
   "metadata": {},
   "outputs": [
    {
     "data": {
      "text/plain": [
       "UserID          0.0\n",
       "Signup Date     0.0\n",
       "User Segment    0.0\n",
       "dtype: float64"
      ]
     },
     "execution_count": 7,
     "metadata": {},
     "output_type": "execute_result"
    }
   ],
   "source": [
    "user_tab.isnull().mean()"
   ]
  },
  {
   "cell_type": "markdown",
   "metadata": {
    "id": "SBwmvQl3UPF3"
   },
   "source": [
    "#  Visitor data"
   ]
  },
  {
   "cell_type": "code",
   "execution_count": 8,
   "metadata": {
    "id": "206pGmyyq3Cb"
   },
   "outputs": [],
   "source": [
    "visitor_log=pd.read_csv(\"VisitorLogsData.csv\")"
   ]
  },
  {
   "cell_type": "code",
   "execution_count": 9,
   "metadata": {
    "colab": {
     "base_uri": "https://localhost:8080/",
     "height": 195
    },
    "id": "qAMihdpLq66e",
    "outputId": "3097fac1-65bf-4819-a9af-9c90795745e6"
   },
   "outputs": [
    {
     "data": {
      "text/html": [
       "<div>\n",
       "<style scoped>\n",
       "    .dataframe tbody tr th:only-of-type {\n",
       "        vertical-align: middle;\n",
       "    }\n",
       "\n",
       "    .dataframe tbody tr th {\n",
       "        vertical-align: top;\n",
       "    }\n",
       "\n",
       "    .dataframe thead th {\n",
       "        text-align: right;\n",
       "    }\n",
       "</style>\n",
       "<table border=\"1\" class=\"dataframe\">\n",
       "  <thead>\n",
       "    <tr style=\"text-align: right;\">\n",
       "      <th></th>\n",
       "      <th>webClientID</th>\n",
       "      <th>VisitDateTime</th>\n",
       "      <th>ProductID</th>\n",
       "      <th>UserID</th>\n",
       "      <th>Activity</th>\n",
       "      <th>Browser</th>\n",
       "      <th>OS</th>\n",
       "      <th>City</th>\n",
       "      <th>Country</th>\n",
       "    </tr>\n",
       "  </thead>\n",
       "  <tbody>\n",
       "    <tr>\n",
       "      <th>0</th>\n",
       "      <td>WI10000050298</td>\n",
       "      <td>2018-05-07 04:28:45.970</td>\n",
       "      <td>pr100631</td>\n",
       "      <td>NaN</td>\n",
       "      <td>NaN</td>\n",
       "      <td>Chrome Mobile</td>\n",
       "      <td>Android</td>\n",
       "      <td>Chennai</td>\n",
       "      <td>India</td>\n",
       "    </tr>\n",
       "    <tr>\n",
       "      <th>1</th>\n",
       "      <td>WI10000025922</td>\n",
       "      <td>2018-05-13 07:26:04.964</td>\n",
       "      <td>pr100707</td>\n",
       "      <td>NaN</td>\n",
       "      <td>NaN</td>\n",
       "      <td>Chrome</td>\n",
       "      <td>Windows</td>\n",
       "      <td>NaN</td>\n",
       "      <td>Taiwan</td>\n",
       "    </tr>\n",
       "    <tr>\n",
       "      <th>2</th>\n",
       "      <td>WI100000204522</td>\n",
       "      <td>2018-05-11 11:43:42.832</td>\n",
       "      <td>pr100030</td>\n",
       "      <td>NaN</td>\n",
       "      <td>click</td>\n",
       "      <td>Chrome</td>\n",
       "      <td>windows</td>\n",
       "      <td>Gurgaon</td>\n",
       "      <td>India</td>\n",
       "    </tr>\n",
       "    <tr>\n",
       "      <th>3</th>\n",
       "      <td>WI10000011974</td>\n",
       "      <td>2018-05-13 15:20:23.436</td>\n",
       "      <td>Pr100192</td>\n",
       "      <td>NaN</td>\n",
       "      <td>CLICK</td>\n",
       "      <td>Chrome</td>\n",
       "      <td>Windows</td>\n",
       "      <td></td>\n",
       "      <td></td>\n",
       "    </tr>\n",
       "    <tr>\n",
       "      <th>4</th>\n",
       "      <td>WI100000441953</td>\n",
       "      <td>2018-05-08 20:44:25.238</td>\n",
       "      <td>Pr100762</td>\n",
       "      <td>NaN</td>\n",
       "      <td>click</td>\n",
       "      <td>Chrome</td>\n",
       "      <td>mac os x</td>\n",
       "      <td>Iselin</td>\n",
       "      <td>United States</td>\n",
       "    </tr>\n",
       "  </tbody>\n",
       "</table>\n",
       "</div>"
      ],
      "text/plain": [
       "      webClientID            VisitDateTime ProductID UserID Activity  \\\n",
       "0   WI10000050298  2018-05-07 04:28:45.970  pr100631    NaN      NaN   \n",
       "1   WI10000025922  2018-05-13 07:26:04.964  pr100707    NaN      NaN   \n",
       "2  WI100000204522  2018-05-11 11:43:42.832  pr100030    NaN    click   \n",
       "3   WI10000011974  2018-05-13 15:20:23.436  Pr100192    NaN    CLICK   \n",
       "4  WI100000441953  2018-05-08 20:44:25.238  Pr100762    NaN    click   \n",
       "\n",
       "         Browser        OS     City        Country  \n",
       "0  Chrome Mobile   Android  Chennai          India  \n",
       "1         Chrome   Windows      NaN         Taiwan  \n",
       "2         Chrome   windows  Gurgaon          India  \n",
       "3         Chrome   Windows                          \n",
       "4         Chrome  mac os x   Iselin  United States  "
      ]
     },
     "execution_count": 9,
     "metadata": {},
     "output_type": "execute_result"
    }
   ],
   "source": [
    "visitor_log.head()"
   ]
  },
  {
   "cell_type": "code",
   "execution_count": 10,
   "metadata": {
    "colab": {
     "base_uri": "https://localhost:8080/"
    },
    "id": "6n8CA1smq-YV",
    "outputId": "a8af0d5f-a8ac-4a33-843e-4604314784b9"
   },
   "outputs": [
    {
     "name": "stdout",
     "output_type": "stream",
     "text": [
      "<class 'pandas.core.frame.DataFrame'>\n",
      "RangeIndex: 6588000 entries, 0 to 6587999\n",
      "Data columns (total 9 columns):\n",
      " #   Column         Dtype \n",
      "---  ------         ----- \n",
      " 0   webClientID    object\n",
      " 1   VisitDateTime  object\n",
      " 2   ProductID      object\n",
      " 3   UserID         object\n",
      " 4   Activity       object\n",
      " 5   Browser        object\n",
      " 6   OS             object\n",
      " 7   City           object\n",
      " 8   Country        object\n",
      "dtypes: object(9)\n",
      "memory usage: 3.4 GB\n"
     ]
    }
   ],
   "source": [
    "visitor_log.info(memory_usage=\"deep\")"
   ]
  },
  {
   "cell_type": "code",
   "execution_count": 11,
   "metadata": {
    "id": "6ykPucvvrBLK"
   },
   "outputs": [
    {
     "data": {
      "text/plain": [
       "UserID           0.901230\n",
       "City             0.328754\n",
       "Activity         0.135010\n",
       "VisitDateTime    0.100017\n",
       "ProductID        0.080015\n",
       "Country          0.060366\n",
       "webClientID      0.000000\n",
       "Browser          0.000000\n",
       "OS               0.000000\n",
       "dtype: float64"
      ]
     },
     "execution_count": 11,
     "metadata": {},
     "output_type": "execute_result"
    }
   ],
   "source": [
    "visitor_log.isnull().mean().sort_values(ascending=False)"
   ]
  },
  {
   "cell_type": "code",
   "execution_count": 12,
   "metadata": {
    "id": "aYPl5aw4rExs"
   },
   "outputs": [
    {
     "data": {
      "text/html": [
       "<div>\n",
       "<style scoped>\n",
       "    .dataframe tbody tr th:only-of-type {\n",
       "        vertical-align: middle;\n",
       "    }\n",
       "\n",
       "    .dataframe tbody tr th {\n",
       "        vertical-align: top;\n",
       "    }\n",
       "\n",
       "    .dataframe thead th {\n",
       "        text-align: right;\n",
       "    }\n",
       "</style>\n",
       "<table border=\"1\" class=\"dataframe\">\n",
       "  <thead>\n",
       "    <tr style=\"text-align: right;\">\n",
       "      <th></th>\n",
       "      <th>webClientID</th>\n",
       "      <th>VisitDateTime</th>\n",
       "      <th>ProductID</th>\n",
       "      <th>UserID</th>\n",
       "      <th>Activity</th>\n",
       "      <th>Browser</th>\n",
       "      <th>OS</th>\n",
       "      <th>City</th>\n",
       "      <th>Country</th>\n",
       "    </tr>\n",
       "  </thead>\n",
       "  <tbody>\n",
       "    <tr>\n",
       "      <th>count</th>\n",
       "      <td>6588000</td>\n",
       "      <td>5929085</td>\n",
       "      <td>6060863</td>\n",
       "      <td>650695</td>\n",
       "      <td>5698554</td>\n",
       "      <td>6588000</td>\n",
       "      <td>6588000</td>\n",
       "      <td>4422169</td>\n",
       "      <td>6190307</td>\n",
       "    </tr>\n",
       "    <tr>\n",
       "      <th>unique</th>\n",
       "      <td>1091455</td>\n",
       "      <td>5482669</td>\n",
       "      <td>17459</td>\n",
       "      <td>34050</td>\n",
       "      <td>4</td>\n",
       "      <td>82</td>\n",
       "      <td>30</td>\n",
       "      <td>26260</td>\n",
       "      <td>18914</td>\n",
       "    </tr>\n",
       "    <tr>\n",
       "      <th>top</th>\n",
       "      <td>WI10000057</td>\n",
       "      <td>2018-05-21 04:18:05.465</td>\n",
       "      <td>Pr100017</td>\n",
       "      <td>U100347</td>\n",
       "      <td>click</td>\n",
       "      <td>Chrome</td>\n",
       "      <td>Windows</td>\n",
       "      <td>Mumbai</td>\n",
       "      <td>India</td>\n",
       "    </tr>\n",
       "    <tr>\n",
       "      <th>freq</th>\n",
       "      <td>8877</td>\n",
       "      <td>5</td>\n",
       "      <td>103845</td>\n",
       "      <td>14671</td>\n",
       "      <td>3041039</td>\n",
       "      <td>4709203</td>\n",
       "      <td>3948358</td>\n",
       "      <td>259651</td>\n",
       "      <td>2360175</td>\n",
       "    </tr>\n",
       "  </tbody>\n",
       "</table>\n",
       "</div>"
      ],
      "text/plain": [
       "       webClientID            VisitDateTime ProductID   UserID Activity  \\\n",
       "count      6588000                  5929085   6060863   650695  5698554   \n",
       "unique     1091455                  5482669     17459    34050        4   \n",
       "top     WI10000057  2018-05-21 04:18:05.465  Pr100017  U100347    click   \n",
       "freq          8877                        5    103845    14671  3041039   \n",
       "\n",
       "        Browser       OS     City  Country  \n",
       "count   6588000  6588000  4422169  6190307  \n",
       "unique       82       30    26260    18914  \n",
       "top      Chrome  Windows   Mumbai    India  \n",
       "freq    4709203  3948358   259651  2360175  "
      ]
     },
     "execution_count": 12,
     "metadata": {},
     "output_type": "execute_result"
    }
   ],
   "source": [
    "visitor_log.describe()"
   ]
  },
  {
   "cell_type": "markdown",
   "metadata": {
    "id": "xDUJ1tU4rRvu"
   },
   "source": [
    "only keeping os,userid,activity,product id and visitdate time as thats imp and it will keep our memory efficient......not advisable...***you can also use dask as I am not efficient with it I will be doing with pandas***"
   ]
  },
  {
   "cell_type": "code",
   "execution_count": 13,
   "metadata": {
    "id": "LmkHeOPZrHUN"
   },
   "outputs": [],
   "source": [
    "visitor_log.drop(columns=[\"webClientID\",\"Browser\",\"City\",\"Country\"],inplace=True)"
   ]
  },
  {
   "cell_type": "markdown",
   "metadata": {
    "id": "-MYH8-AxtCtl"
   },
   "source": [
    "# Missing Value Treatment"
   ]
  },
  {
   "cell_type": "markdown",
   "metadata": {
    "id": "gkjHka4KtNVw"
   },
   "source": [
    "***Product Id***"
   ]
  },
  {
   "cell_type": "code",
   "execution_count": 14,
   "metadata": {
    "id": "hIxHBSvus_c2"
   },
   "outputs": [
    {
     "data": {
      "text/plain": [
       "0"
      ]
     },
     "execution_count": 14,
     "metadata": {},
     "output_type": "execute_result"
    }
   ],
   "source": [
    "visitor_log.ProductID.fillna(value=\"Product101\",inplace=True)\n",
    "visitor_log.ProductID.isnull().sum()"
   ]
  },
  {
   "cell_type": "markdown",
   "metadata": {
    "id": "9Z-j76mTtZJn"
   },
   "source": [
    "***User Id***"
   ]
  },
  {
   "cell_type": "code",
   "execution_count": 15,
   "metadata": {
    "id": "XfQ4j0R5tcl5"
   },
   "outputs": [
    {
     "data": {
      "text/plain": [
       "0.9012302671523983"
      ]
     },
     "execution_count": 15,
     "metadata": {},
     "output_type": "execute_result"
    }
   ],
   "source": [
    "visitor_log.UserID.isnull().mean()"
   ]
  },
  {
   "cell_type": "markdown",
   "metadata": {
    "id": "kWAYyacOtgD7"
   },
   "source": [
    "more than 90 percent null we can drop these as we don't want unregistered people but let us see other variables as its generall practice to drop after missing value treatment "
   ]
  },
  {
   "cell_type": "code",
   "execution_count": 16,
   "metadata": {
    "id": "VOjEU-iIwnHE"
   },
   "outputs": [
    {
     "data": {
      "text/plain": [
       "34050"
      ]
     },
     "execution_count": 16,
     "metadata": {},
     "output_type": "execute_result"
    }
   ],
   "source": [
    "visitor_log.UserID.nunique()"
   ]
  },
  {
   "cell_type": "markdown",
   "metadata": {},
   "source": [
    "number of unique users matches "
   ]
  },
  {
   "cell_type": "markdown",
   "metadata": {
    "id": "x8AUlknjumgQ"
   },
   "source": [
    "***Activity***"
   ]
  },
  {
   "cell_type": "code",
   "execution_count": 17,
   "metadata": {
    "id": "xbCREz4ytfM-"
   },
   "outputs": [
    {
     "data": {
      "text/plain": [
       "4"
      ]
     },
     "execution_count": 17,
     "metadata": {},
     "output_type": "execute_result"
    }
   ],
   "source": [
    "visitor_log.Activity.nunique()"
   ]
  },
  {
   "cell_type": "markdown",
   "metadata": {
    "id": "L-IcN21Ouuob"
   },
   "source": [
    "there should be only 2 unique values but we got 4 need treatment lets see missing value first"
   ]
  },
  {
   "cell_type": "code",
   "execution_count": 18,
   "metadata": {
    "id": "hZuD7sl5ut58"
   },
   "outputs": [
    {
     "data": {
      "text/plain": [
       "0.13501001821493624"
      ]
     },
     "execution_count": 18,
     "metadata": {},
     "output_type": "execute_result"
    }
   ],
   "source": [
    "visitor_log.Activity.isnull().mean()"
   ]
  },
  {
   "cell_type": "code",
   "execution_count": 19,
   "metadata": {
    "id": "lC6l6x5cvGG6"
   },
   "outputs": [
    {
     "data": {
      "text/plain": [
       "0.0"
      ]
     },
     "execution_count": 19,
     "metadata": {},
     "output_type": "execute_result"
    }
   ],
   "source": [
    "visitor_log.Activity.fillna(value=\"pageload\",inplace=True)\n",
    "visitor_log.Activity.isnull().mean()"
   ]
  },
  {
   "cell_type": "code",
   "execution_count": 20,
   "metadata": {
    "id": "Gbi2ErsMvIcd"
   },
   "outputs": [
    {
     "data": {
      "text/plain": [
       "click       3041039\n",
       "pageload    2407394\n",
       "CLICK        759590\n",
       "PAGELOAD     379977\n",
       "Name: Activity, dtype: int64"
      ]
     },
     "execution_count": 20,
     "metadata": {},
     "output_type": "execute_result"
    }
   ],
   "source": [
    "visitor_log.Activity.value_counts()"
   ]
  },
  {
   "cell_type": "code",
   "execution_count": 21,
   "metadata": {
    "id": "14u1J_wlvuwr"
   },
   "outputs": [],
   "source": [
    "visitor_log.Activity.replace(\"CLICK\",\"click\",inplace=True)\n",
    "visitor_log.Activity.replace(\"PAGELOAD\",\"pageload\",inplace=True)"
   ]
  },
  {
   "cell_type": "code",
   "execution_count": 22,
   "metadata": {
    "id": "wOKe3T6rvxim"
   },
   "outputs": [
    {
     "data": {
      "image/png": "[encoded data removed]",
      "text/plain": [
       "<Figure size 360x360 with 1 Axes>"
      ]
     },
     "metadata": {
      "needs_background": "light"
     },
     "output_type": "display_data"
    }
   ],
   "source": [
    "plt.figure(figsize=(5,5))\n",
    "sns.countplot(visitor_log.Activity.value_counts())\n",
    "plt.show()"
   ]
  },
  {
   "cell_type": "markdown",
   "metadata": {
    "id": "w7NV-bAswgUA"
   },
   "source": [
    "***Os***"
   ]
  },
  {
   "cell_type": "code",
   "execution_count": 23,
   "metadata": {},
   "outputs": [
    {
     "data": {
      "text/plain": [
       "0.0"
      ]
     },
     "execution_count": 23,
     "metadata": {},
     "output_type": "execute_result"
    }
   ],
   "source": [
    "visitor_log.OS.isnull().mean()"
   ]
  },
  {
   "cell_type": "code",
   "execution_count": 24,
   "metadata": {
    "id": "CrrUnLlQwS0p"
   },
   "outputs": [
    {
     "data": {
      "text/plain": [
       "Windows          3948358\n",
       "Android           872324\n",
       "Mac OS X          771875\n",
       "Linux             310421\n",
       "windows           297555\n",
       "iOS               126011\n",
       "Ubuntu             83870\n",
       "android            65389\n",
       "mac os x           58040\n",
       "linux              23202\n",
       "Chrome OS           9353\n",
       "ios                 9346\n",
       "ubuntu              6314\n",
       "Fedora              3967\n",
       "Other                743\n",
       "chrome os            738\n",
       "fedora               303\n",
       "other                 53\n",
       "Windows Phone         46\n",
       "Tizen                 29\n",
       "FreeBSD               25\n",
       "OpenBSD                6\n",
       "NetBSD                 6\n",
       "Chromecast             6\n",
       "tizen                  5\n",
       "Solaris                5\n",
       "Kindle                 3\n",
       "freebsd                3\n",
       "BlackBerry OS          3\n",
       "solaris                1\n",
       "Name: OS, dtype: int64"
      ]
     },
     "execution_count": 24,
     "metadata": {},
     "output_type": "execute_result"
    }
   ],
   "source": [
    "visitor_log.OS.value_counts()"
   ]
  },
  {
   "cell_type": "code",
   "execution_count": 25,
   "metadata": {
    "id": "SLT6eiAhwvqZ"
   },
   "outputs": [],
   "source": [
    "visitor_log.OS.replace(\"windows\",\"Windows\",inplace=True)\n",
    "visitor_log.OS.replace(\"Windows Phone\",\"Windows\",inplace=True)"
   ]
  },
  {
   "cell_type": "code",
   "execution_count": 26,
   "metadata": {
    "id": "gcNlBlE1wy0t"
   },
   "outputs": [],
   "source": [
    "visitor_log.OS.replace(\"Mac OS X\",\"iOS\",inplace=True)\n",
    "visitor_log.OS.replace(\"mac os x\",\"iOS\",inplace=True)\n",
    "visitor_log.OS.replace(\"ios\",\"iOS\",inplace=True)"
   ]
  },
  {
   "cell_type": "code",
   "execution_count": 27,
   "metadata": {
    "id": "fhFcHKVIw1xj"
   },
   "outputs": [],
   "source": [
    "visitor_log.OS.replace(\"android\",\"Android\",inplace=True)"
   ]
  },
  {
   "cell_type": "code",
   "execution_count": 28,
   "metadata": {
    "id": "fVnmhPblw4Am"
   },
   "outputs": [
    {
     "data": {
      "text/plain": [
       "0          Android\n",
       "1          Windows\n",
       "2          Windows\n",
       "3          Windows\n",
       "4              iOS\n",
       "            ...   \n",
       "6587995    Windows\n",
       "6587996    Windows\n",
       "6587997    Windows\n",
       "6587998    Android\n",
       "6587999        iOS\n",
       "Name: OS, Length: 6588000, dtype: object"
      ]
     },
     "execution_count": 28,
     "metadata": {},
     "output_type": "execute_result"
    }
   ],
   "source": [
    "visitor_log.OS.replace(\"android\",\"Android\")\n",
    "visitor_log.OS.replace(\"linux\",\"Linux\")\n",
    "visitor_log.OS.replace(\"ubuntu\",\"Ubuntu\")\n",
    "visitor_log.OS.replace(\"solaris\",\"Solaris\")\n",
    "visitor_log.OS.replace(\"freebsd\",\"FreeBSD\")\n",
    "visitor_log.OS.replace(\"fedora\",\"Fedora\")\n",
    "visitor_log.OS.replace(\"chrome os\",\"Chrome OS\")\n",
    "visitor_log.OS.replace(\"tizen\",\"Other\")\n",
    "visitor_log.OS.replace(\"Tizen\",\"Other\")\n",
    "visitor_log.OS.replace(\"Kindle\",\"Other\")\n",
    "visitor_log.OS.replace(\"NetBSD\",\"Other\")\n",
    "visitor_log.OS.replace(\"other\",\"Other\")"
   ]
  },
  {
   "cell_type": "code",
   "execution_count": 29,
   "metadata": {
    "id": "Qd4FhN0jw6zN"
   },
   "outputs": [
    {
     "data": {
      "image/png": "[encoded data removed]",
      "text/plain": [
       "<Figure size 720x1080 with 1 Axes>"
      ]
     },
     "metadata": {
      "needs_background": "light"
     },
     "output_type": "display_data"
    }
   ],
   "source": [
    "plt.figure(figsize=(10,15))\n",
    "sns.countplot(y=visitor_log.OS)\n",
    "plt.show()"
   ]
  },
  {
   "cell_type": "markdown",
   "metadata": {
    "id": "5BPkX9ObxDsn"
   },
   "source": [
    "**DATEtime-most imp feature**"
   ]
  },
  {
   "cell_type": "code",
   "execution_count": 30,
   "metadata": {
    "id": "fwh-S8c1xDAz"
   },
   "outputs": [
    {
     "data": {
      "text/plain": [
       "0.10001745598057074"
      ]
     },
     "execution_count": 30,
     "metadata": {},
     "output_type": "execute_result"
    }
   ],
   "source": [
    "visitor_log.VisitDateTime.isnull().mean()"
   ]
  },
  {
   "cell_type": "code",
   "execution_count": 31,
   "metadata": {
    "id": "uFEeufJ2xK5p"
   },
   "outputs": [
    {
     "data": {
      "text/plain": [
       "0.0"
      ]
     },
     "execution_count": 31,
     "metadata": {},
     "output_type": "execute_result"
    }
   ],
   "source": [
    "visitor_log.VisitDateTime.fillna(\"2018-05-07 00:00:01\",inplace=True) # first day of visitors_log is considered, time is random\n",
    "visitor_log.VisitDateTime.isnull().mean()"
   ]
  },
  {
   "cell_type": "code",
   "execution_count": 32,
   "metadata": {},
   "outputs": [],
   "source": [
    "visitor_log[\"VisitDateTime\"]=visitor_log[\"VisitDateTime\"].astype('category')"
   ]
  },
  {
   "cell_type": "code",
   "execution_count": 33,
   "metadata": {},
   "outputs": [],
   "source": [
    "visitor_log[\"VisitDateTime\"]=visitor_log[\"VisitDateTime\"].astype('datetime64[ns]')"
   ]
  },
  {
   "cell_type": "markdown",
   "metadata": {
    "id": "vXOispolgq88"
   },
   "source": [
    "Filtering data first on user ids and then on dates "
   ]
  },
  {
   "cell_type": "code",
   "execution_count": 34,
   "metadata": {
    "id": "Pvzx72ymgp9i"
   },
   "outputs": [
    {
     "data": {
      "text/plain": [
       "VisitDateTime    0.00000\n",
       "ProductID        0.00000\n",
       "UserID           0.90123\n",
       "Activity         0.00000\n",
       "OS               0.00000\n",
       "dtype: float64"
      ]
     },
     "execution_count": 34,
     "metadata": {},
     "output_type": "execute_result"
    }
   ],
   "source": [
    "visitor_log.isnull().mean()"
   ]
  },
  {
   "cell_type": "code",
   "execution_count": 35,
   "metadata": {
    "id": "9aTForS1gp_n"
   },
   "outputs": [
    {
     "data": {
      "text/plain": [
       "VisitDateTime    0.0\n",
       "ProductID        0.0\n",
       "UserID           0.0\n",
       "Activity         0.0\n",
       "OS               0.0\n",
       "dtype: float64"
      ]
     },
     "execution_count": 35,
     "metadata": {},
     "output_type": "execute_result"
    }
   ],
   "source": [
    "visitor_log.dropna(inplace=True)\n",
    "visitor_log.isnull().mean()"
   ]
  },
  {
   "cell_type": "code",
   "execution_count": 36,
   "metadata": {
    "id": "xpiYK_tygqCJ"
   },
   "outputs": [
    {
     "name": "stdout",
     "output_type": "stream",
     "text": [
      "<class 'pandas.core.frame.DataFrame'>\n",
      "Int64Index: 650695 entries, 14 to 6587994\n",
      "Data columns (total 5 columns):\n",
      " #   Column         Non-Null Count   Dtype         \n",
      "---  ------         --------------   -----         \n",
      " 0   VisitDateTime  650695 non-null  datetime64[ns]\n",
      " 1   ProductID      650695 non-null  object        \n",
      " 2   UserID         650695 non-null  object        \n",
      " 3   Activity       650695 non-null  object        \n",
      " 4   OS             650695 non-null  object        \n",
      "dtypes: datetime64[ns](1), object(4)\n",
      "memory usage: 168.7 MB\n"
     ]
    }
   ],
   "source": [
    "visitor_log.info(memory_usage=\"deep\")"
   ]
  },
  {
   "cell_type": "code",
   "execution_count": 37,
   "metadata": {},
   "outputs": [],
   "source": [
    "visitor_log['Date'] = pd.to_datetime(visitor_log['VisitDateTime']).dt.date"
   ]
  },
  {
   "cell_type": "code",
   "execution_count": 38,
   "metadata": {},
   "outputs": [],
   "source": [
    "visitor_log['Date']=visitor_log['Date'].astype('category')\n",
    "visitor_log['Date']=visitor_log['Date'].astype('datetime64[ns]')"
   ]
  },
  {
   "cell_type": "code",
   "execution_count": 39,
   "metadata": {},
   "outputs": [],
   "source": [
    "visitor_log=visitor_log[visitor_log[\"Date\"]>\"2018-05-06\"]\n",
    "visitor_log=visitor_log[visitor_log[\"Date\"]<\"2018-05-28\"]\n"
   ]
  },
  {
   "cell_type": "code",
   "execution_count": 40,
   "metadata": {},
   "outputs": [
    {
     "name": "stdout",
     "output_type": "stream",
     "text": [
      "<class 'pandas.core.frame.DataFrame'>\n",
      "Int64Index: 591952 entries, 23 to 6587994\n",
      "Data columns (total 6 columns):\n",
      " #   Column         Non-Null Count   Dtype         \n",
      "---  ------         --------------   -----         \n",
      " 0   VisitDateTime  591952 non-null  datetime64[ns]\n",
      " 1   ProductID      591952 non-null  object        \n",
      " 2   UserID         591952 non-null  object        \n",
      " 3   Activity       591952 non-null  object        \n",
      " 4   OS             591952 non-null  object        \n",
      " 5   Date           591952 non-null  datetime64[ns]\n",
      "dtypes: datetime64[ns](2), object(4)\n",
      "memory usage: 158.0 MB\n"
     ]
    }
   ],
   "source": [
    "visitor_log.info(memory_usage=\"deep\")"
   ]
  },
  {
   "cell_type": "markdown",
   "metadata": {},
   "source": [
    "# user Tab understanding"
   ]
  },
  {
   "cell_type": "markdown",
   "metadata": {},
   "source": [
    "# Now thats all the filtering and missing value treatement its tim eto generate new features and first combine with user data"
   ]
  },
  {
   "cell_type": "markdown",
   "metadata": {},
   "source": [
    "Combining datas on userIds"
   ]
  },
  {
   "cell_type": "code",
   "execution_count": 41,
   "metadata": {},
   "outputs": [
    {
     "ename": "NameError",
     "evalue": "name 'lstyfey' is not defined",
     "output_type": "error",
     "traceback": [
      "\u001b[1;31m---------------------------------------------------------------------------\u001b[0m",
      "\u001b[1;31mNameError\u001b[0m                                 Traceback (most recent call last)",
      "\u001b[1;32m<ipython-input-41-985b2e3fcf8f>\u001b[0m in \u001b[0;36m<module>\u001b[1;34m\u001b[0m\n\u001b[1;32m----> 1\u001b[1;33m \u001b[0mlstyfey\u001b[0m\u001b[1;33m\u001b[0m\u001b[1;33m\u001b[0m\u001b[0m\n\u001b[0m",
      "\u001b[1;31mNameError\u001b[0m: name 'lstyfey' is not defined"
     ]
    }
   ],
   "source": [
    "lstyfey"
   ]
  },
  {
   "cell_type": "code",
   "execution_count": 42,
   "metadata": {},
   "outputs": [],
   "source": [
    "combined_data= pd.merge(\n",
    "    left=visitor_log,\n",
    "    right=user_tab,\n",
    "    how=\"left\",\n",
    "    on='UserID',\n",
    "    copy=True)"
   ]
  },
  {
   "cell_type": "code",
   "execution_count": 43,
   "metadata": {},
   "outputs": [
    {
     "data": {
      "text/html": [
       "<div>\n",
       "<style scoped>\n",
       "    .dataframe tbody tr th:only-of-type {\n",
       "        vertical-align: middle;\n",
       "    }\n",
       "\n",
       "    .dataframe tbody tr th {\n",
       "        vertical-align: top;\n",
       "    }\n",
       "\n",
       "    .dataframe thead th {\n",
       "        text-align: right;\n",
       "    }\n",
       "</style>\n",
       "<table border=\"1\" class=\"dataframe\">\n",
       "  <thead>\n",
       "    <tr style=\"text-align: right;\">\n",
       "      <th></th>\n",
       "      <th>VisitDateTime</th>\n",
       "      <th>ProductID</th>\n",
       "      <th>UserID</th>\n",
       "      <th>Activity</th>\n",
       "      <th>OS</th>\n",
       "      <th>Date</th>\n",
       "      <th>Signup Date</th>\n",
       "      <th>User Segment</th>\n",
       "    </tr>\n",
       "  </thead>\n",
       "  <tbody>\n",
       "    <tr>\n",
       "      <th>0</th>\n",
       "      <td>2018-05-10 06:28:53.391</td>\n",
       "      <td>Pr100241</td>\n",
       "      <td>U132443</td>\n",
       "      <td>pageload</td>\n",
       "      <td>Windows</td>\n",
       "      <td>2018-05-10</td>\n",
       "      <td>2017-09-29 18:26:42.747408</td>\n",
       "      <td>C</td>\n",
       "    </tr>\n",
       "    <tr>\n",
       "      <th>1</th>\n",
       "      <td>2018-05-08 12:40:02.153</td>\n",
       "      <td>pr100495</td>\n",
       "      <td>U134616</td>\n",
       "      <td>click</td>\n",
       "      <td>Windows</td>\n",
       "      <td>2018-05-08</td>\n",
       "      <td>2017-03-06 15:04:58.375772</td>\n",
       "      <td>C</td>\n",
       "    </tr>\n",
       "    <tr>\n",
       "      <th>2</th>\n",
       "      <td>2018-05-11 15:35:43.689</td>\n",
       "      <td>Pr100363</td>\n",
       "      <td>U130784</td>\n",
       "      <td>click</td>\n",
       "      <td>Chrome OS</td>\n",
       "      <td>2018-05-11</td>\n",
       "      <td>2017-09-07 18:44:24.168992</td>\n",
       "      <td>B</td>\n",
       "    </tr>\n",
       "    <tr>\n",
       "      <th>3</th>\n",
       "      <td>2018-05-19 00:02:31.347</td>\n",
       "      <td>pr100340</td>\n",
       "      <td>U120983</td>\n",
       "      <td>click</td>\n",
       "      <td>Windows</td>\n",
       "      <td>2018-05-19</td>\n",
       "      <td>2018-03-11 05:06:32.431488</td>\n",
       "      <td>C</td>\n",
       "    </tr>\n",
       "    <tr>\n",
       "      <th>4</th>\n",
       "      <td>2018-05-19 04:51:45.337</td>\n",
       "      <td>Pr100166</td>\n",
       "      <td>U120287</td>\n",
       "      <td>click</td>\n",
       "      <td>Windows</td>\n",
       "      <td>2018-05-19</td>\n",
       "      <td>2018-04-11 18:22:19.564447</td>\n",
       "      <td>C</td>\n",
       "    </tr>\n",
       "  </tbody>\n",
       "</table>\n",
       "</div>"
      ],
      "text/plain": [
       "            VisitDateTime ProductID   UserID  Activity         OS       Date  \\\n",
       "0 2018-05-10 06:28:53.391  Pr100241  U132443  pageload    Windows 2018-05-10   \n",
       "1 2018-05-08 12:40:02.153  pr100495  U134616     click    Windows 2018-05-08   \n",
       "2 2018-05-11 15:35:43.689  Pr100363  U130784     click  Chrome OS 2018-05-11   \n",
       "3 2018-05-19 00:02:31.347  pr100340  U120983     click    Windows 2018-05-19   \n",
       "4 2018-05-19 04:51:45.337  Pr100166  U120287     click    Windows 2018-05-19   \n",
       "\n",
       "                 Signup Date User Segment  \n",
       "0 2017-09-29 18:26:42.747408            C  \n",
       "1 2017-03-06 15:04:58.375772            C  \n",
       "2 2017-09-07 18:44:24.168992            B  \n",
       "3 2018-03-11 05:06:32.431488            C  \n",
       "4 2018-04-11 18:22:19.564447            C  "
      ]
     },
     "execution_count": 43,
     "metadata": {},
     "output_type": "execute_result"
    }
   ],
   "source": [
    "combined_data.head()"
   ]
  },
  {
   "cell_type": "code",
   "execution_count": 44,
   "metadata": {},
   "outputs": [
    {
     "name": "stdout",
     "output_type": "stream",
     "text": [
      "<class 'pandas.core.frame.DataFrame'>\n",
      "Int64Index: 591952 entries, 0 to 591951\n",
      "Data columns (total 8 columns):\n",
      " #   Column         Non-Null Count   Dtype         \n",
      "---  ------         --------------   -----         \n",
      " 0   VisitDateTime  591952 non-null  datetime64[ns]\n",
      " 1   ProductID      591952 non-null  object        \n",
      " 2   UserID         591952 non-null  object        \n",
      " 3   Activity       591952 non-null  object        \n",
      " 4   OS             591952 non-null  object        \n",
      " 5   Date           591952 non-null  datetime64[ns]\n",
      " 6   Signup Date    591952 non-null  datetime64[ns]\n",
      " 7   User Segment   591952 non-null  object        \n",
      "dtypes: datetime64[ns](3), object(5)\n",
      "memory usage: 40.6+ MB\n"
     ]
    }
   ],
   "source": [
    "combined_data.info()"
   ]
  },
  {
   "cell_type": "code",
   "execution_count": 45,
   "metadata": {},
   "outputs": [
    {
     "data": {
      "text/html": [
       "<div>\n",
       "<style scoped>\n",
       "    .dataframe tbody tr th:only-of-type {\n",
       "        vertical-align: middle;\n",
       "    }\n",
       "\n",
       "    .dataframe tbody tr th {\n",
       "        vertical-align: top;\n",
       "    }\n",
       "\n",
       "    .dataframe thead th {\n",
       "        text-align: right;\n",
       "    }\n",
       "</style>\n",
       "<table border=\"1\" class=\"dataframe\">\n",
       "  <thead>\n",
       "    <tr style=\"text-align: right;\">\n",
       "      <th></th>\n",
       "      <th>VisitDateTime</th>\n",
       "      <th>ProductID</th>\n",
       "      <th>UserID</th>\n",
       "      <th>Activity</th>\n",
       "      <th>OS</th>\n",
       "      <th>Date</th>\n",
       "      <th>Signup Date</th>\n",
       "      <th>User Segment</th>\n",
       "    </tr>\n",
       "  </thead>\n",
       "  <tbody>\n",
       "    <tr>\n",
       "      <th>count</th>\n",
       "      <td>591952</td>\n",
       "      <td>591952</td>\n",
       "      <td>591952</td>\n",
       "      <td>591952</td>\n",
       "      <td>591952</td>\n",
       "      <td>591952</td>\n",
       "      <td>591952</td>\n",
       "      <td>591952</td>\n",
       "    </tr>\n",
       "    <tr>\n",
       "      <th>unique</th>\n",
       "      <td>487830</td>\n",
       "      <td>7483</td>\n",
       "      <td>33429</td>\n",
       "      <td>2</td>\n",
       "      <td>13</td>\n",
       "      <td>21</td>\n",
       "      <td>33417</td>\n",
       "      <td>3</td>\n",
       "    </tr>\n",
       "    <tr>\n",
       "      <th>top</th>\n",
       "      <td>2018-05-07 00:00:01</td>\n",
       "      <td>Pr101042</td>\n",
       "      <td>U100347</td>\n",
       "      <td>click</td>\n",
       "      <td>Windows</td>\n",
       "      <td>2018-05-07 00:00:00</td>\n",
       "      <td>2017-06-22 08:35:27.852396</td>\n",
       "      <td>B</td>\n",
       "    </tr>\n",
       "    <tr>\n",
       "      <th>freq</th>\n",
       "      <td>64803</td>\n",
       "      <td>48368</td>\n",
       "      <td>13334</td>\n",
       "      <td>360118</td>\n",
       "      <td>421935</td>\n",
       "      <td>104653</td>\n",
       "      <td>13334</td>\n",
       "      <td>292087</td>\n",
       "    </tr>\n",
       "    <tr>\n",
       "      <th>first</th>\n",
       "      <td>2018-05-07 00:00:01</td>\n",
       "      <td>NaN</td>\n",
       "      <td>NaN</td>\n",
       "      <td>NaN</td>\n",
       "      <td>NaN</td>\n",
       "      <td>2018-05-07 00:00:00</td>\n",
       "      <td>2010-12-01 03:11:51</td>\n",
       "      <td>NaN</td>\n",
       "    </tr>\n",
       "    <tr>\n",
       "      <th>last</th>\n",
       "      <td>2018-05-27 23:59:23.729000</td>\n",
       "      <td>NaN</td>\n",
       "      <td>NaN</td>\n",
       "      <td>NaN</td>\n",
       "      <td>NaN</td>\n",
       "      <td>2018-05-27 00:00:00</td>\n",
       "      <td>2018-05-20 07:06:47.531020</td>\n",
       "      <td>NaN</td>\n",
       "    </tr>\n",
       "  </tbody>\n",
       "</table>\n",
       "</div>"
      ],
      "text/plain": [
       "                     VisitDateTime ProductID   UserID Activity       OS  \\\n",
       "count                       591952    591952   591952   591952   591952   \n",
       "unique                      487830      7483    33429        2       13   \n",
       "top            2018-05-07 00:00:01  Pr101042  U100347    click  Windows   \n",
       "freq                         64803     48368    13334   360118   421935   \n",
       "first          2018-05-07 00:00:01       NaN      NaN      NaN      NaN   \n",
       "last    2018-05-27 23:59:23.729000       NaN      NaN      NaN      NaN   \n",
       "\n",
       "                       Date                 Signup Date User Segment  \n",
       "count                591952                      591952       591952  \n",
       "unique                   21                       33417            3  \n",
       "top     2018-05-07 00:00:00  2017-06-22 08:35:27.852396            B  \n",
       "freq                 104653                       13334       292087  \n",
       "first   2018-05-07 00:00:00         2010-12-01 03:11:51          NaN  \n",
       "last    2018-05-27 00:00:00  2018-05-20 07:06:47.531020          NaN  "
      ]
     },
     "execution_count": 45,
     "metadata": {},
     "output_type": "execute_result"
    }
   ],
   "source": [
    "combined_data.describe()"
   ]
  },
  {
   "cell_type": "code",
   "execution_count": 114,
   "metadata": {},
   "outputs": [
    {
     "ename": "AttributeError",
     "evalue": "'DataFrameGroupBy' object has no attribute 'to_csv'",
     "output_type": "error",
     "traceback": [
      "\u001b[1;31m---------------------------------------------------------------------------\u001b[0m",
      "\u001b[1;31mAttributeError\u001b[0m                            Traceback (most recent call last)",
      "\u001b[1;32m<ipython-input-114-e78d48eeea76>\u001b[0m in \u001b[0;36m<module>\u001b[1;34m\u001b[0m\n\u001b[1;32m----> 1\u001b[1;33m \u001b[0mcombined_data\u001b[0m\u001b[1;33m.\u001b[0m\u001b[0mgroupby\u001b[0m\u001b[1;33m(\u001b[0m\u001b[1;34m\"UserID\"\u001b[0m\u001b[1;33m)\u001b[0m\u001b[1;33m.\u001b[0m\u001b[0mto_csv\u001b[0m\u001b[1;33m(\u001b[0m\u001b[1;34m\"cleaning.csv\"\u001b[0m\u001b[1;33m)\u001b[0m\u001b[1;33m\u001b[0m\u001b[1;33m\u001b[0m\u001b[0m\n\u001b[0m",
      "\u001b[1;32mC:\\ProgramData\\Anaconda3\\lib\\site-packages\\pandas\\core\\groupby\\groupby.py\u001b[0m in \u001b[0;36m__getattr__\u001b[1;34m(self, attr)\u001b[0m\n\u001b[0;32m    750\u001b[0m             \u001b[1;32mreturn\u001b[0m \u001b[0mself\u001b[0m\u001b[1;33m[\u001b[0m\u001b[0mattr\u001b[0m\u001b[1;33m]\u001b[0m\u001b[1;33m\u001b[0m\u001b[1;33m\u001b[0m\u001b[0m\n\u001b[0;32m    751\u001b[0m \u001b[1;33m\u001b[0m\u001b[0m\n\u001b[1;32m--> 752\u001b[1;33m         raise AttributeError(\n\u001b[0m\u001b[0;32m    753\u001b[0m             \u001b[1;34mf\"'{type(self).__name__}' object has no attribute '{attr}'\"\u001b[0m\u001b[1;33m\u001b[0m\u001b[1;33m\u001b[0m\u001b[0m\n\u001b[0;32m    754\u001b[0m         )\n",
      "\u001b[1;31mAttributeError\u001b[0m: 'DataFrameGroupBy' object has no attribute 'to_csv'"
     ]
    }
   ],
   "source": [
    "combined_data.groupby(\"UserID\").to_csv(\"cleaning.csv\")"
   ]
  },
  {
   "cell_type": "markdown",
   "metadata": {},
   "source": [
    "# Feature-generation\n",
    "**UserID**\n",
    "Unique ID of the registered user\n",
    "\n",
    "**No_of_days_Visited_7_Days**\n",
    "How many days a user was active on platform in the last 7 days.\n",
    "\n",
    "**No_Of_Products_Viewed_15_Days**\n",
    "Number of Products viewed by the user in the last 15 days\n",
    "\n",
    "**User_Vintage**\n",
    "Vintage (In Days) of the user as of today\n",
    "\n",
    "**Most_Viewed_product_15_Days**\n",
    "Most frequently viewed (page loads) product by the user in the last 15 days. If there are multiple products that have a similar number of page loads then , consider the recent one. If a user has not viewed any product in the last 15 days then put it as Product101. \n",
    "\n",
    "**Most_Active_OS**\n",
    "Most Frequently used OS by user. \n",
    "\n",
    "**Recently_Viewed_Product**\n",
    "Most recently viewed (page loads) product by the user.\n",
    "\n",
    "If a user has not viewed any product then put it as Product101.\n",
    "\n",
    "**Pageloads_last_7_days**\n",
    "Count of Page loads in the last 7 days by the user\n",
    "\n",
    "**Clicks_last_7_days*\n",
    "Count of Clicks in the last 7 days  by the user"
   ]
  },
  {
   "cell_type": "code",
   "execution_count": 115,
   "metadata": {},
   "outputs": [],
   "source": [
    "feature_table=combined_data.groupby([\"UserID\"])"
   ]
  },
  {
   "cell_type": "code",
   "execution_count": 116,
   "metadata": {},
   "outputs": [
    {
     "data": {
      "text/html": [
       "<div>\n",
       "<style scoped>\n",
       "    .dataframe tbody tr th:only-of-type {\n",
       "        vertical-align: middle;\n",
       "    }\n",
       "\n",
       "    .dataframe tbody tr th {\n",
       "        vertical-align: top;\n",
       "    }\n",
       "\n",
       "    .dataframe thead th {\n",
       "        text-align: right;\n",
       "    }\n",
       "</style>\n",
       "<table border=\"1\" class=\"dataframe\">\n",
       "  <thead>\n",
       "    <tr style=\"text-align: right;\">\n",
       "      <th></th>\n",
       "      <th>VisitDateTime</th>\n",
       "      <th>ProductID</th>\n",
       "      <th>UserID</th>\n",
       "      <th>Activity</th>\n",
       "      <th>OS</th>\n",
       "      <th>Date</th>\n",
       "      <th>Signup Date</th>\n",
       "      <th>User Segment</th>\n",
       "    </tr>\n",
       "  </thead>\n",
       "  <tbody>\n",
       "    <tr>\n",
       "      <th>0</th>\n",
       "      <td>2018-05-10 06:28:53.391</td>\n",
       "      <td>Pr100241</td>\n",
       "      <td>U132443</td>\n",
       "      <td>pageload</td>\n",
       "      <td>Windows</td>\n",
       "      <td>2018-05-10</td>\n",
       "      <td>2017-09-29 18:26:42.747408</td>\n",
       "      <td>C</td>\n",
       "    </tr>\n",
       "    <tr>\n",
       "      <th>1</th>\n",
       "      <td>2018-05-08 12:40:02.153</td>\n",
       "      <td>pr100495</td>\n",
       "      <td>U134616</td>\n",
       "      <td>click</td>\n",
       "      <td>Windows</td>\n",
       "      <td>2018-05-08</td>\n",
       "      <td>2017-03-06 15:04:58.375772</td>\n",
       "      <td>C</td>\n",
       "    </tr>\n",
       "    <tr>\n",
       "      <th>2</th>\n",
       "      <td>2018-05-11 15:35:43.689</td>\n",
       "      <td>Pr100363</td>\n",
       "      <td>U130784</td>\n",
       "      <td>click</td>\n",
       "      <td>Chrome OS</td>\n",
       "      <td>2018-05-11</td>\n",
       "      <td>2017-09-07 18:44:24.168992</td>\n",
       "      <td>B</td>\n",
       "    </tr>\n",
       "    <tr>\n",
       "      <th>3</th>\n",
       "      <td>2018-05-19 00:02:31.347</td>\n",
       "      <td>pr100340</td>\n",
       "      <td>U120983</td>\n",
       "      <td>click</td>\n",
       "      <td>Windows</td>\n",
       "      <td>2018-05-19</td>\n",
       "      <td>2018-03-11 05:06:32.431488</td>\n",
       "      <td>C</td>\n",
       "    </tr>\n",
       "    <tr>\n",
       "      <th>4</th>\n",
       "      <td>2018-05-19 04:51:45.337</td>\n",
       "      <td>Pr100166</td>\n",
       "      <td>U120287</td>\n",
       "      <td>click</td>\n",
       "      <td>Windows</td>\n",
       "      <td>2018-05-19</td>\n",
       "      <td>2018-04-11 18:22:19.564447</td>\n",
       "      <td>C</td>\n",
       "    </tr>\n",
       "    <tr>\n",
       "      <th>...</th>\n",
       "      <td>...</td>\n",
       "      <td>...</td>\n",
       "      <td>...</td>\n",
       "      <td>...</td>\n",
       "      <td>...</td>\n",
       "      <td>...</td>\n",
       "      <td>...</td>\n",
       "      <td>...</td>\n",
       "    </tr>\n",
       "    <tr>\n",
       "      <th>591930</th>\n",
       "      <td>2018-05-23 07:47:21.371</td>\n",
       "      <td>pr100534</td>\n",
       "      <td>U114666</td>\n",
       "      <td>click</td>\n",
       "      <td>Windows</td>\n",
       "      <td>2018-05-23</td>\n",
       "      <td>2018-04-11 12:33:27.584143</td>\n",
       "      <td>B</td>\n",
       "    </tr>\n",
       "    <tr>\n",
       "      <th>591934</th>\n",
       "      <td>2018-05-17 07:12:46.539</td>\n",
       "      <td>Pr100085</td>\n",
       "      <td>U123420</td>\n",
       "      <td>pageload</td>\n",
       "      <td>Windows</td>\n",
       "      <td>2018-05-17</td>\n",
       "      <td>2016-03-15 12:32:58.262473</td>\n",
       "      <td>B</td>\n",
       "    </tr>\n",
       "    <tr>\n",
       "      <th>591940</th>\n",
       "      <td>2018-05-19 16:36:43.091</td>\n",
       "      <td>Product101</td>\n",
       "      <td>U121292</td>\n",
       "      <td>click</td>\n",
       "      <td>Windows</td>\n",
       "      <td>2018-05-19</td>\n",
       "      <td>2018-01-20 17:17:51.669282</td>\n",
       "      <td>B</td>\n",
       "    </tr>\n",
       "    <tr>\n",
       "      <th>591945</th>\n",
       "      <td>2018-05-27 13:03:27.484</td>\n",
       "      <td>Product101</td>\n",
       "      <td>U105492</td>\n",
       "      <td>pageload</td>\n",
       "      <td>Android</td>\n",
       "      <td>2018-05-27</td>\n",
       "      <td>2017-06-20 17:14:46.051187</td>\n",
       "      <td>B</td>\n",
       "    </tr>\n",
       "    <tr>\n",
       "      <th>591947</th>\n",
       "      <td>2018-05-07 00:00:01.000</td>\n",
       "      <td>Product101</td>\n",
       "      <td>U129703</td>\n",
       "      <td>pageload</td>\n",
       "      <td>iOS</td>\n",
       "      <td>2018-05-07</td>\n",
       "      <td>2018-03-29 18:14:37.185975</td>\n",
       "      <td>C</td>\n",
       "    </tr>\n",
       "  </tbody>\n",
       "</table>\n",
       "<p>294547 rows × 8 columns</p>\n",
       "</div>"
      ],
      "text/plain": [
       "                 VisitDateTime   ProductID   UserID  Activity         OS  \\\n",
       "0      2018-05-10 06:28:53.391    Pr100241  U132443  pageload    Windows   \n",
       "1      2018-05-08 12:40:02.153    pr100495  U134616     click    Windows   \n",
       "2      2018-05-11 15:35:43.689    Pr100363  U130784     click  Chrome OS   \n",
       "3      2018-05-19 00:02:31.347    pr100340  U120983     click    Windows   \n",
       "4      2018-05-19 04:51:45.337    Pr100166  U120287     click    Windows   \n",
       "...                        ...         ...      ...       ...        ...   \n",
       "591930 2018-05-23 07:47:21.371    pr100534  U114666     click    Windows   \n",
       "591934 2018-05-17 07:12:46.539    Pr100085  U123420  pageload    Windows   \n",
       "591940 2018-05-19 16:36:43.091  Product101  U121292     click    Windows   \n",
       "591945 2018-05-27 13:03:27.484  Product101  U105492  pageload    Android   \n",
       "591947 2018-05-07 00:00:01.000  Product101  U129703  pageload        iOS   \n",
       "\n",
       "             Date                Signup Date User Segment  \n",
       "0      2018-05-10 2017-09-29 18:26:42.747408            C  \n",
       "1      2018-05-08 2017-03-06 15:04:58.375772            C  \n",
       "2      2018-05-11 2017-09-07 18:44:24.168992            B  \n",
       "3      2018-05-19 2018-03-11 05:06:32.431488            C  \n",
       "4      2018-05-19 2018-04-11 18:22:19.564447            C  \n",
       "...           ...                        ...          ...  \n",
       "591930 2018-05-23 2018-04-11 12:33:27.584143            B  \n",
       "591934 2018-05-17 2016-03-15 12:32:58.262473            B  \n",
       "591940 2018-05-19 2018-01-20 17:17:51.669282            B  \n",
       "591945 2018-05-27 2017-06-20 17:14:46.051187            B  \n",
       "591947 2018-05-07 2018-03-29 18:14:37.185975            C  \n",
       "\n",
       "[294547 rows x 8 columns]"
      ]
     },
     "execution_count": 116,
     "metadata": {},
     "output_type": "execute_result"
    }
   ],
   "source": [
    "feature_table.head(25)"
   ]
  },
  {
   "cell_type": "code",
   "execution_count": null,
   "metadata": {},
   "outputs": [],
   "source": []
  },
  {
   "cell_type": "code",
   "execution_count": null,
   "metadata": {},
   "outputs": [],
   "source": []
  }
 ],
 "metadata": {
  "colab": {
   "collapsed_sections": [],
   "name": "Untitled34.ipynb",
   "provenance": []
  },
  "kernelspec": {
   "display_name": "Python 3",
   "language": "python",
   "name": "python3"
  },
  "language_info": {
   "codemirror_mode": {
    "name": "ipython",
    "version": 3
   },
   "file_extension": ".py",
   "mimetype": "text/x-python",
   "name": "python",
   "nbconvert_exporter": "python",
   "pygments_lexer": "ipython3",
   "version": "3.8.8"
  }
 },
 "nbformat": 4,
 "nbformat_minor": 1
}
