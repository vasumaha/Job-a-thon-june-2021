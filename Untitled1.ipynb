{
 "cells": [
  {
   "cell_type": "code",
   "execution_count": 1,
   "id": "b435a866",
   "metadata": {},
   "outputs": [],
   "source": [
    "#import libaries\n",
    "import pandas as pd\n",
    "import numpy as np\n",
    "import matplotlib.pyplot as  plt\n",
    "import seaborn as sns\n",
    "from datetime import datetime"
   ]
  },
  {
   "cell_type": "markdown",
   "id": "6ef5d0d2",
   "metadata": {},
   "source": [
    "# User Data"
   ]
  },
  {
   "cell_type": "code",
   "execution_count": 2,
   "id": "d21b6f0f",
   "metadata": {},
   "outputs": [],
   "source": [
    "usr=pd.read_csv(\"userTable.csv\")"
   ]
  },
  {
   "cell_type": "code",
   "execution_count": 3,
   "id": "ce6343a8",
   "metadata": {},
   "outputs": [
    {
     "name": "stdout",
     "output_type": "stream",
     "text": [
      "<class 'pandas.core.frame.DataFrame'>\n",
      "RangeIndex: 34050 entries, 0 to 34049\n",
      "Data columns (total 3 columns):\n",
      " #   Column        Non-Null Count  Dtype \n",
      "---  ------        --------------  ----- \n",
      " 0   UserID        34050 non-null  object\n",
      " 1   Signup Date   34050 non-null  object\n",
      " 2   User Segment  34050 non-null  object\n",
      "dtypes: object(3)\n",
      "memory usage: 6.8 MB\n"
     ]
    }
   ],
   "source": [
    "usr.info(memory_usage=\"deep\")"
   ]
  },
  {
   "cell_type": "code",
   "execution_count": 4,
   "id": "145f5556",
   "metadata": {},
   "outputs": [
    {
     "name": "stdout",
     "output_type": "stream",
     "text": [
      "Number of unique USERS: 34050\n",
      "First user signup: 2010-12-01 03:11:51+00:00\n",
      "Last user signup: 2018-05-20 07:06:47.531020+00:00\n"
     ]
    }
   ],
   "source": [
    "print(f\"Number of unique USERS: {usr.UserID.nunique()}\\nFirst user signup: {usr['Signup Date'].min()}\\nLast user signup: {usr['Signup Date'].max()}\")"
   ]
  },
  {
   "cell_type": "code",
   "execution_count": 5,
   "id": "b00ec9bd",
   "metadata": {},
   "outputs": [
    {
     "data": {
      "text/plain": [
       "UserID          0.0\n",
       "Signup Date     0.0\n",
       "User Segment    0.0\n",
       "dtype: float64"
      ]
     },
     "execution_count": 5,
     "metadata": {},
     "output_type": "execute_result"
    }
   ],
   "source": [
    "usr.isnull().mean()"
   ]
  },
  {
   "cell_type": "markdown",
   "id": "eaccf9d2",
   "metadata": {},
   "source": [
    "# Visitor data"
   ]
  },
  {
   "cell_type": "code",
   "execution_count": 6,
   "id": "be2e2f99",
   "metadata": {},
   "outputs": [],
   "source": [
    "col_list=[\"VisitDateTime\",\"ProductID\",\"UserID\",\"Activity\",\"OS\"]"
   ]
  },
  {
   "cell_type": "markdown",
   "id": "a1d6ff39",
   "metadata": {},
   "source": [
    "reading only those columns that i will need to optimise code"
   ]
  },
  {
   "cell_type": "code",
   "execution_count": 7,
   "id": "ce33e5c4",
   "metadata": {},
   "outputs": [],
   "source": [
    "vis=pd.read_csv(\"VisitorLogsData.csv\",usecols=col_list)"
   ]
  },
  {
   "cell_type": "code",
   "execution_count": 8,
   "id": "5b073f80",
   "metadata": {},
   "outputs": [
    {
     "data": {
      "text/html": [
       "<div>\n",
       "<style scoped>\n",
       "    .dataframe tbody tr th:only-of-type {\n",
       "        vertical-align: middle;\n",
       "    }\n",
       "\n",
       "    .dataframe tbody tr th {\n",
       "        vertical-align: top;\n",
       "    }\n",
       "\n",
       "    .dataframe thead th {\n",
       "        text-align: right;\n",
       "    }\n",
       "</style>\n",
       "<table border=\"1\" class=\"dataframe\">\n",
       "  <thead>\n",
       "    <tr style=\"text-align: right;\">\n",
       "      <th></th>\n",
       "      <th>VisitDateTime</th>\n",
       "      <th>ProductID</th>\n",
       "      <th>UserID</th>\n",
       "      <th>Activity</th>\n",
       "      <th>OS</th>\n",
       "    </tr>\n",
       "  </thead>\n",
       "  <tbody>\n",
       "    <tr>\n",
       "      <th>0</th>\n",
       "      <td>2018-05-07 04:28:45.970</td>\n",
       "      <td>pr100631</td>\n",
       "      <td>NaN</td>\n",
       "      <td>NaN</td>\n",
       "      <td>Android</td>\n",
       "    </tr>\n",
       "    <tr>\n",
       "      <th>1</th>\n",
       "      <td>2018-05-13 07:26:04.964</td>\n",
       "      <td>pr100707</td>\n",
       "      <td>NaN</td>\n",
       "      <td>NaN</td>\n",
       "      <td>Windows</td>\n",
       "    </tr>\n",
       "    <tr>\n",
       "      <th>2</th>\n",
       "      <td>2018-05-11 11:43:42.832</td>\n",
       "      <td>pr100030</td>\n",
       "      <td>NaN</td>\n",
       "      <td>click</td>\n",
       "      <td>windows</td>\n",
       "    </tr>\n",
       "    <tr>\n",
       "      <th>3</th>\n",
       "      <td>2018-05-13 15:20:23.436</td>\n",
       "      <td>Pr100192</td>\n",
       "      <td>NaN</td>\n",
       "      <td>CLICK</td>\n",
       "      <td>Windows</td>\n",
       "    </tr>\n",
       "    <tr>\n",
       "      <th>4</th>\n",
       "      <td>2018-05-08 20:44:25.238</td>\n",
       "      <td>Pr100762</td>\n",
       "      <td>NaN</td>\n",
       "      <td>click</td>\n",
       "      <td>mac os x</td>\n",
       "    </tr>\n",
       "  </tbody>\n",
       "</table>\n",
       "</div>"
      ],
      "text/plain": [
       "             VisitDateTime ProductID UserID Activity        OS\n",
       "0  2018-05-07 04:28:45.970  pr100631    NaN      NaN   Android\n",
       "1  2018-05-13 07:26:04.964  pr100707    NaN      NaN   Windows\n",
       "2  2018-05-11 11:43:42.832  pr100030    NaN    click   windows\n",
       "3  2018-05-13 15:20:23.436  Pr100192    NaN    CLICK   Windows\n",
       "4  2018-05-08 20:44:25.238  Pr100762    NaN    click  mac os x"
      ]
     },
     "execution_count": 8,
     "metadata": {},
     "output_type": "execute_result"
    }
   ],
   "source": [
    "vis.head()\n"
   ]
  },
  {
   "cell_type": "code",
   "execution_count": 9,
   "id": "acdfacd9",
   "metadata": {},
   "outputs": [
    {
     "name": "stdout",
     "output_type": "stream",
     "text": [
      "<class 'pandas.core.frame.DataFrame'>\n",
      "RangeIndex: 6588000 entries, 0 to 6587999\n",
      "Data columns (total 5 columns):\n",
      " #   Column         Dtype \n",
      "---  ------         ----- \n",
      " 0   VisitDateTime  object\n",
      " 1   ProductID      object\n",
      " 2   UserID         object\n",
      " 3   Activity       object\n",
      " 4   OS             object\n",
      "dtypes: object(5)\n",
      "memory usage: 1.8 GB\n"
     ]
    }
   ],
   "source": [
    "vis.info(memory_usage=\"deep\")"
   ]
  },
  {
   "cell_type": "code",
   "execution_count": 10,
   "id": "97f23b5e",
   "metadata": {},
   "outputs": [
    {
     "data": {
      "text/html": [
       "<div>\n",
       "<style scoped>\n",
       "    .dataframe tbody tr th:only-of-type {\n",
       "        vertical-align: middle;\n",
       "    }\n",
       "\n",
       "    .dataframe tbody tr th {\n",
       "        vertical-align: top;\n",
       "    }\n",
       "\n",
       "    .dataframe thead th {\n",
       "        text-align: right;\n",
       "    }\n",
       "</style>\n",
       "<table border=\"1\" class=\"dataframe\">\n",
       "  <thead>\n",
       "    <tr style=\"text-align: right;\">\n",
       "      <th></th>\n",
       "      <th>VisitDateTime</th>\n",
       "      <th>ProductID</th>\n",
       "      <th>UserID</th>\n",
       "      <th>Activity</th>\n",
       "      <th>OS</th>\n",
       "    </tr>\n",
       "  </thead>\n",
       "  <tbody>\n",
       "    <tr>\n",
       "      <th>count</th>\n",
       "      <td>5929085</td>\n",
       "      <td>6060863</td>\n",
       "      <td>650695</td>\n",
       "      <td>5698554</td>\n",
       "      <td>6588000</td>\n",
       "    </tr>\n",
       "    <tr>\n",
       "      <th>unique</th>\n",
       "      <td>5482669</td>\n",
       "      <td>17459</td>\n",
       "      <td>34050</td>\n",
       "      <td>4</td>\n",
       "      <td>30</td>\n",
       "    </tr>\n",
       "    <tr>\n",
       "      <th>top</th>\n",
       "      <td>2018-05-21 04:18:05.465</td>\n",
       "      <td>Pr100017</td>\n",
       "      <td>U100347</td>\n",
       "      <td>click</td>\n",
       "      <td>Windows</td>\n",
       "    </tr>\n",
       "    <tr>\n",
       "      <th>freq</th>\n",
       "      <td>5</td>\n",
       "      <td>103845</td>\n",
       "      <td>14671</td>\n",
       "      <td>3041039</td>\n",
       "      <td>3948358</td>\n",
       "    </tr>\n",
       "  </tbody>\n",
       "</table>\n",
       "</div>"
      ],
      "text/plain": [
       "                  VisitDateTime ProductID   UserID Activity       OS\n",
       "count                   5929085   6060863   650695  5698554  6588000\n",
       "unique                  5482669     17459    34050        4       30\n",
       "top     2018-05-21 04:18:05.465  Pr100017  U100347    click  Windows\n",
       "freq                          5    103845    14671  3041039  3948358"
      ]
     },
     "execution_count": 10,
     "metadata": {},
     "output_type": "execute_result"
    }
   ],
   "source": [
    "vis.describe()"
   ]
  },
  {
   "cell_type": "code",
   "execution_count": 11,
   "id": "f263bbdb",
   "metadata": {},
   "outputs": [
    {
     "data": {
      "text/plain": [
       "VisitDateTime    0.100017\n",
       "ProductID        0.080015\n",
       "UserID           0.901230\n",
       "Activity         0.135010\n",
       "OS               0.000000\n",
       "dtype: float64"
      ]
     },
     "execution_count": 11,
     "metadata": {},
     "output_type": "execute_result"
    }
   ],
   "source": [
    "vis.isnull().mean()"
   ]
  },
  {
   "cell_type": "markdown",
   "id": "6aac40a2",
   "metadata": {},
   "source": [
    "A very big dataset so I am not going to clean it and droping it\n",
    "\n",
    "alot of missing values in user id nearly 90% droping those as we need \n",
    "\n",
    "we have 4 activity but we only have 2 need to see it\n",
    "\n",
    "lower case the str"
   ]
  },
  {
   "cell_type": "markdown",
   "id": "6c3917e3",
   "metadata": {},
   "source": [
    "**Droping empty userid not recomeended but we have 90% null and also we just need registered_user p.s:always drop after split"
   ]
  },
  {
   "cell_type": "code",
   "execution_count": 12,
   "id": "cd7e7ef5",
   "metadata": {},
   "outputs": [],
   "source": [
    "vis=vis.dropna(subset=[\"UserID\"])"
   ]
  },
  {
   "cell_type": "code",
   "execution_count": 13,
   "id": "9f5fc078",
   "metadata": {},
   "outputs": [
    {
     "data": {
      "text/plain": [
       "VisitDateTime    0.099590\n",
       "ProductID        0.079858\n",
       "UserID           0.000000\n",
       "Activity         0.134867\n",
       "OS               0.000000\n",
       "dtype: float64"
      ]
     },
     "execution_count": 13,
     "metadata": {},
     "output_type": "execute_result"
    }
   ],
   "source": [
    "vis.isnull().mean()"
   ]
  },
  {
   "cell_type": "code",
   "execution_count": 14,
   "id": "f106072c",
   "metadata": {},
   "outputs": [
    {
     "name": "stdout",
     "output_type": "stream",
     "text": [
      "<class 'pandas.core.frame.DataFrame'>\n",
      "Int64Index: 650695 entries, 14 to 6587994\n",
      "Data columns (total 5 columns):\n",
      " #   Column         Non-Null Count   Dtype \n",
      "---  ------         --------------   ----- \n",
      " 0   VisitDateTime  585892 non-null  object\n",
      " 1   ProductID      598732 non-null  object\n",
      " 2   UserID         650695 non-null  object\n",
      " 3   Activity       562938 non-null  object\n",
      " 4   OS             650695 non-null  object\n",
      "dtypes: object(5)\n",
      "memory usage: 206.0 MB\n"
     ]
    }
   ],
   "source": [
    "vis.info(memory_usage=\"deep\")"
   ]
  },
  {
   "cell_type": "markdown",
   "id": "3d242ae5",
   "metadata": {},
   "source": [
    "# Eda and cleaning na"
   ]
  },
  {
   "cell_type": "code",
   "execution_count": 15,
   "id": "24cea9b8",
   "metadata": {},
   "outputs": [],
   "source": [
    "#vis.info(memory_usage=\"deep\")"
   ]
  },
  {
   "cell_type": "markdown",
   "id": "f69dfd5e",
   "metadata": {},
   "source": [
    "**Activity**"
   ]
  },
  {
   "cell_type": "code",
   "execution_count": 16,
   "id": "0356e73b",
   "metadata": {},
   "outputs": [
    {
     "data": {
      "text/plain": [
       "array(['click', nan, 'CLICK', 'pageload', 'PAGELOAD'], dtype=object)"
      ]
     },
     "execution_count": 16,
     "metadata": {},
     "output_type": "execute_result"
    }
   ],
   "source": [
    "vis.Activity.unique()"
   ]
  },
  {
   "cell_type": "code",
   "execution_count": 17,
   "id": "59782993",
   "metadata": {},
   "outputs": [],
   "source": [
    "vis[\"Activity\"]=vis[\"Activity\"].str.lower()"
   ]
  },
  {
   "cell_type": "code",
   "execution_count": 18,
   "id": "678af6a4",
   "metadata": {},
   "outputs": [],
   "source": [
    "#vis.Activity.unique()\n",
    "#vis.Activity.isnull().mean()"
   ]
  },
  {
   "cell_type": "code",
   "execution_count": 19,
   "id": "7ff0c1d7",
   "metadata": {},
   "outputs": [
    {
     "data": {
      "image/png": "[encoded data removed]",
      "text/plain": [
       "<Figure size 432x288 with 1 Axes>"
      ]
     },
     "metadata": {
      "needs_background": "light"
     },
     "output_type": "display_data"
    }
   ],
   "source": [
    "\n",
    "sns.countplot(y=vis.Activity)\n",
    "plt.show()"
   ]
  },
  {
   "cell_type": "code",
   "execution_count": 20,
   "id": "49b7fc52",
   "metadata": {},
   "outputs": [],
   "source": [
    "vis.Activity.fillna(value=\"pageload\",inplace=True)#if he has not clicked it can be assumed to be browsing"
   ]
  },
  {
   "cell_type": "markdown",
   "id": "d35d06ea",
   "metadata": {},
   "source": [
    "**ProductID**"
   ]
  },
  {
   "cell_type": "code",
   "execution_count": 21,
   "id": "bd7f96bb",
   "metadata": {},
   "outputs": [],
   "source": [
    "#vis.ProductID"
   ]
  },
  {
   "cell_type": "code",
   "execution_count": 22,
   "id": "790a8d89",
   "metadata": {},
   "outputs": [
    {
     "data": {
      "text/plain": [
       "7673"
      ]
     },
     "execution_count": 22,
     "metadata": {},
     "output_type": "execute_result"
    }
   ],
   "source": [
    "vis.ProductID.nunique()"
   ]
  },
  {
   "cell_type": "code",
   "execution_count": 23,
   "id": "adf3cad7",
   "metadata": {},
   "outputs": [],
   "source": [
    "vis[\"ProductID\"]=vis[\"ProductID\"].str.title()#after seeing values we found out disperancy in casig converting to camel case"
   ]
  },
  {
   "cell_type": "code",
   "execution_count": 24,
   "id": "efba0856",
   "metadata": {},
   "outputs": [
    {
     "data": {
      "text/plain": [
       "4634"
      ]
     },
     "execution_count": 24,
     "metadata": {},
     "output_type": "execute_result"
    }
   ],
   "source": [
    "vis.ProductID.nunique()"
   ]
  },
  {
   "cell_type": "code",
   "execution_count": 25,
   "id": "bb14dc25",
   "metadata": {},
   "outputs": [],
   "source": [
    "vis.ProductID.fillna(value=\"Product101\",inplace=True)#giving in question"
   ]
  },
  {
   "cell_type": "markdown",
   "id": "3a1e7516",
   "metadata": {},
   "source": [
    "**OS**"
   ]
  },
  {
   "cell_type": "code",
   "execution_count": 26,
   "id": "664a746a",
   "metadata": {},
   "outputs": [],
   "source": [
    "vis[\"OS\"]=vis[\"OS\"].str.lower()"
   ]
  },
  {
   "cell_type": "code",
   "execution_count": 27,
   "id": "524c7a94",
   "metadata": {},
   "outputs": [
    {
     "data": {
      "text/plain": [
       "windows      463639\n",
       "android       89184\n",
       "mac os x      55260\n",
       "linux         24020\n",
       "ubuntu        13337\n",
       "ios            4390\n",
       "chrome os       709\n",
       "fedora          141\n",
       "tizen            15\n",
       "Name: OS, dtype: int64"
      ]
     },
     "execution_count": 27,
     "metadata": {},
     "output_type": "execute_result"
    }
   ],
   "source": [
    "vis.OS.value_counts()"
   ]
  },
  {
   "cell_type": "code",
   "execution_count": null,
   "id": "dcbf0b80",
   "metadata": {},
   "outputs": [],
   "source": []
  },
  {
   "cell_type": "code",
   "execution_count": 28,
   "id": "89f0c68d",
   "metadata": {},
   "outputs": [],
   "source": [
    "most_frequent_os=vis.OS.max()"
   ]
  },
  {
   "cell_type": "markdown",
   "id": "57b4df94",
   "metadata": {},
   "source": [
    "As a general practice we convert values less than 5% to others"
   ]
  },
  {
   "cell_type": "code",
   "execution_count": 29,
   "id": "744a8bd2",
   "metadata": {},
   "outputs": [
    {
     "data": {
      "image/png": "[encoded data removed]",
      "text/plain": [
       "<Figure size 432x288 with 1 Axes>"
      ]
     },
     "metadata": {
      "needs_background": "light"
     },
     "output_type": "display_data"
    }
   ],
   "source": [
    "sns.countplot(y=vis.OS)\n",
    "plt.show()"
   ]
  },
  {
   "cell_type": "markdown",
   "id": "7a967bad",
   "metadata": {},
   "source": [
    "**VisitDateTime most imp feature**"
   ]
  },
  {
   "cell_type": "code",
   "execution_count": 30,
   "id": "1c2ccaa8",
   "metadata": {},
   "outputs": [
    {
     "data": {
      "text/plain": [
       "VisitDateTime    0.09959\n",
       "ProductID        0.00000\n",
       "UserID           0.00000\n",
       "Activity         0.00000\n",
       "OS               0.00000\n",
       "dtype: float64"
      ]
     },
     "execution_count": 30,
     "metadata": {},
     "output_type": "execute_result"
    }
   ],
   "source": [
    "vis.isnull().mean()"
   ]
  },
  {
   "cell_type": "code",
   "execution_count": 31,
   "id": "f2e3b892",
   "metadata": {},
   "outputs": [],
   "source": [
    "vis.VisitDateTime.fillna(\"2018-05-07 00:00:01\",inplace=True)#notdroping as time is the most imp feature and we can't oblige it"
   ]
  },
  {
   "cell_type": "code",
   "execution_count": 32,
   "id": "68476185",
   "metadata": {},
   "outputs": [],
   "source": [
    "#vis.describe()"
   ]
  },
  {
   "cell_type": "code",
   "execution_count": 33,
   "id": "7cf6e895",
   "metadata": {},
   "outputs": [],
   "source": [
    "vis[\"VisitDateTime\"]=vis[\"VisitDateTime\"].astype(\"category\")\n",
    "vis[\"VisitDateTime\"]=vis[\"VisitDateTime\"].astype('datetime64[ns]')"
   ]
  },
  {
   "cell_type": "code",
   "execution_count": 34,
   "id": "9d05a5c5",
   "metadata": {},
   "outputs": [],
   "source": [
    "#vis.info()"
   ]
  },
  {
   "cell_type": "code",
   "execution_count": 35,
   "id": "059c6053",
   "metadata": {},
   "outputs": [],
   "source": [
    "vis[\"Date\"]=pd.to_datetime(vis[\"VisitDateTime\"]).dt.date"
   ]
  },
  {
   "cell_type": "code",
   "execution_count": 36,
   "id": "d5f35c4a",
   "metadata": {},
   "outputs": [],
   "source": [
    "vis[\"Date\"]=vis[\"Date\"].astype(\"category\")\n",
    "vis[\"Date\"]=vis[\"Date\"].astype('datetime64[ns]')"
   ]
  },
  {
   "cell_type": "code",
   "execution_count": 37,
   "id": "1a5f1bde",
   "metadata": {},
   "outputs": [],
   "source": [
    "vis=vis[vis[\"Date\"]>\"2018-05-06\"]\n",
    "vis=vis[vis[\"Date\"]<\"2018-05-28\"]"
   ]
  },
  {
   "cell_type": "markdown",
   "id": "c3092266",
   "metadata": {},
   "source": [
    "# Combine_dataset"
   ]
  },
  {
   "cell_type": "code",
   "execution_count": 38,
   "id": "c6852ebd",
   "metadata": {},
   "outputs": [],
   "source": [
    "combined_data=pd.merge(left=vis,right=usr,how=\"inner\",on=\"UserID\",copy=True)"
   ]
  },
  {
   "cell_type": "code",
   "execution_count": 39,
   "id": "07a4ae24",
   "metadata": {},
   "outputs": [
    {
     "name": "stdout",
     "output_type": "stream",
     "text": [
      "<class 'pandas.core.frame.DataFrame'>\n",
      "Int64Index: 591952 entries, 0 to 591951\n",
      "Data columns (total 8 columns):\n",
      " #   Column         Non-Null Count   Dtype         \n",
      "---  ------         --------------   -----         \n",
      " 0   VisitDateTime  591952 non-null  datetime64[ns]\n",
      " 1   ProductID      591952 non-null  object        \n",
      " 2   UserID         591952 non-null  object        \n",
      " 3   Activity       591952 non-null  object        \n",
      " 4   OS             591952 non-null  object        \n",
      " 5   Date           591952 non-null  datetime64[ns]\n",
      " 6   Signup Date    591952 non-null  object        \n",
      " 7   User Segment   591952 non-null  object        \n",
      "dtypes: datetime64[ns](2), object(6)\n",
      "memory usage: 240.9 MB\n"
     ]
    }
   ],
   "source": [
    "combined_data.info(memory_usage=\"deep\")"
   ]
  },
  {
   "cell_type": "markdown",
   "id": "91900609",
   "metadata": {},
   "source": [
    "# Feature-generation\n",
    "**UserID**\n",
    "Unique ID of the registered user\n",
    "\n",
    "**No_of_days_Visited_7_Days**\n",
    "How many days a user was active on platform in the last 7 days.\n",
    "\n",
    "**No_Of_Products_Viewed_15_Days**\n",
    "Number of Products viewed by the user in the last 15 days\n",
    "\n",
    "**User_Vintage**\n",
    "Vintage (In Days) of the user as of today\n",
    "\n",
    "**Most_Viewed_product_15_Days**\n",
    "Most frequently viewed (page loads) product by the user in the last 15 days. If there are multiple products that have a similar number of page loads then , consider the recent one. If a user has not viewed any product in the last 15 days then put it as Product101. \n",
    "\n",
    "**Most_Active_OS**\n",
    "Most Frequently used OS by user. \n",
    "\n",
    "**Recently_Viewed_Product**\n",
    "Most recently viewed (page loads) product by the user.\n",
    "\n",
    "If a user has not viewed any product then put it as Product101.\n",
    "\n",
    "**Pageloads_last_7_days**\n",
    "Count of Page loads in the last 7 days by the user\n",
    "\n",
    "**Clicks_last_7_days**\n",
    "Count of Clicks in the last 7 days  by the user"
   ]
  },
  {
   "cell_type": "code",
   "execution_count": 40,
   "id": "db34dc4c",
   "metadata": {},
   "outputs": [],
   "source": [
    "sample_submission=pd.read_csv(\"sample_submission_M7Vpb9f.csv\")"
   ]
  },
  {
   "cell_type": "markdown",
   "id": "49bc57e9",
   "metadata": {},
   "source": [
    "***Most active Os***"
   ]
  },
  {
   "cell_type": "code",
   "execution_count": 41,
   "id": "d75c4175",
   "metadata": {},
   "outputs": [],
   "source": [
    "Most_Active_OS=combined_data.groupby([\"UserID\"])[\"OS\"].max()"
   ]
  },
  {
   "cell_type": "code",
   "execution_count": 42,
   "id": "f6de32e8",
   "metadata": {},
   "outputs": [],
   "source": [
    "feature_1= pd.merge(\n",
    "    left=sample_submission,\n",
    "    right=Most_Active_OS,\n",
    "    how=\"outer\",\n",
    "    on='UserID',\n",
    "    copy=True)"
   ]
  },
  {
   "cell_type": "code",
   "execution_count": 43,
   "id": "6362156d",
   "metadata": {},
   "outputs": [],
   "source": [
    "#feature_1.info()"
   ]
  },
  {
   "cell_type": "code",
   "execution_count": 44,
   "id": "8880eada",
   "metadata": {},
   "outputs": [],
   "source": [
    "#feature_1.describe()"
   ]
  },
  {
   "cell_type": "code",
   "execution_count": 45,
   "id": "b49c8b2e",
   "metadata": {},
   "outputs": [],
   "source": [
    "feature_1[\"Most_Active_OS\"]=feature_1[\"OS\"]"
   ]
  },
  {
   "cell_type": "code",
   "execution_count": 46,
   "id": "6e2244b5",
   "metadata": {},
   "outputs": [],
   "source": [
    "feature_1.drop(columns=[\"OS\"],inplace=True)"
   ]
  },
  {
   "cell_type": "code",
   "execution_count": 47,
   "id": "20894ea2",
   "metadata": {},
   "outputs": [],
   "source": [
    "feature_1.fillna(value=most_frequent_os,inplace=True)#filling na with most frequent os"
   ]
  },
  {
   "cell_type": "code",
   "execution_count": 48,
   "id": "65e5f741",
   "metadata": {},
   "outputs": [],
   "source": [
    "#feature_1.isnull().mean()"
   ]
  },
  {
   "cell_type": "markdown",
   "id": "1c49179c",
   "metadata": {},
   "source": [
    "***No_Of_Products_Viewed_15_Days***"
   ]
  },
  {
   "cell_type": "code",
   "execution_count": 49,
   "id": "4890681e",
   "metadata": {},
   "outputs": [],
   "source": [
    "combined_data=combined_data[combined_data[\"Date\"]>\"2018-05-12\"]"
   ]
  },
  {
   "cell_type": "code",
   "execution_count": 50,
   "id": "e0baca2e",
   "metadata": {},
   "outputs": [],
   "source": [
    "#combined_data.groupby([\"UserID\"])[\"ProductID\"].count()"
   ]
  },
  {
   "cell_type": "code",
   "execution_count": 51,
   "id": "9e615868",
   "metadata": {},
   "outputs": [],
   "source": [
    "No_Of_Products_Viewed_15_Days=combined_data.groupby([\"UserID\"])[\"ProductID\"].count()"
   ]
  },
  {
   "cell_type": "code",
   "execution_count": 52,
   "id": "3660fd9d",
   "metadata": {},
   "outputs": [],
   "source": [
    "feature_1= pd.merge(\n",
    "    left=feature_1,\n",
    "    right=No_Of_Products_Viewed_15_Days,\n",
    "    how=\"left\",\n",
    "    on='UserID',\n",
    "    copy=True)"
   ]
  },
  {
   "cell_type": "code",
   "execution_count": 53,
   "id": "3d181328",
   "metadata": {},
   "outputs": [],
   "source": [
    "#feature_1.info()"
   ]
  },
  {
   "cell_type": "code",
   "execution_count": 54,
   "id": "2f47ebaf",
   "metadata": {},
   "outputs": [],
   "source": [
    "feature_1[\"No_Of_Products_Viewed_15_Days\"]=feature_1[\"ProductID\"]"
   ]
  },
  {
   "cell_type": "code",
   "execution_count": 55,
   "id": "40bd3add",
   "metadata": {},
   "outputs": [],
   "source": [
    "feature_1.drop(columns=\"ProductID\",inplace=True)"
   ]
  },
  {
   "cell_type": "code",
   "execution_count": 56,
   "id": "50ffcbef",
   "metadata": {},
   "outputs": [],
   "source": [
    "feature_1.fillna(value=0,inplace=True)#not viwed any product in last 15 days"
   ]
  },
  {
   "cell_type": "markdown",
   "id": "1e402d83",
   "metadata": {},
   "source": [
    "**Most_Viewed_product_15_Days**"
   ]
  },
  {
   "cell_type": "code",
   "execution_count": 57,
   "id": "57326170",
   "metadata": {},
   "outputs": [],
   "source": [
    "combined_data_pageload=combined_data[combined_data[\"Activity\"]==\"pageload\"]"
   ]
  },
  {
   "cell_type": "code",
   "execution_count": 58,
   "id": "c567b944",
   "metadata": {},
   "outputs": [],
   "source": [
    "Most_Viewed_product_15_Days=combined_data_pageload.groupby([\"UserID\"])[\"ProductID\"].max()"
   ]
  },
  {
   "cell_type": "code",
   "execution_count": 59,
   "id": "cd880035",
   "metadata": {},
   "outputs": [],
   "source": [
    "feature_1= pd.merge(\n",
    "    left=feature_1,\n",
    "    right=Most_Viewed_product_15_Days,\n",
    "    how=\"left\",\n",
    "    on='UserID',\n",
    "    copy=True)"
   ]
  },
  {
   "cell_type": "code",
   "execution_count": 60,
   "id": "19a78219",
   "metadata": {},
   "outputs": [],
   "source": [
    "feature_1[\"Most_Viewed_product_15_Days\"]=feature_1[\"ProductID\"]"
   ]
  },
  {
   "cell_type": "code",
   "execution_count": 61,
   "id": "630b8cb4",
   "metadata": {},
   "outputs": [],
   "source": [
    "feature_1.drop(columns=\"ProductID\",inplace=True\n",
    "              )"
   ]
  },
  {
   "cell_type": "code",
   "execution_count": 62,
   "id": "3a37507e",
   "metadata": {},
   "outputs": [
    {
     "data": {
      "text/plain": [
       "UserID                           0.000000\n",
       "No_of_days_Visited_7_Days        0.000000\n",
       "No_Of_Products_Viewed_15_Days    0.000000\n",
       "User_Vintage                     0.000000\n",
       "Most_Viewed_product_15_Days      0.310191\n",
       "Most_Active_OS                   0.000000\n",
       "Recently_Viewed_Product          0.000000\n",
       "Pageloads_last_7_days            0.000000\n",
       "Clicks_last_7_days               0.000000\n",
       "dtype: float64"
      ]
     },
     "execution_count": 62,
     "metadata": {},
     "output_type": "execute_result"
    }
   ],
   "source": [
    "feature_1.isnull().mean()"
   ]
  },
  {
   "cell_type": "code",
   "execution_count": 63,
   "id": "f7ec5dae",
   "metadata": {},
   "outputs": [],
   "source": [
    "feature_1.fillna(value=\"Product101\",inplace=True)#given in question"
   ]
  },
  {
   "cell_type": "markdown",
   "id": "a0ebc8c9",
   "metadata": {},
   "source": [
    "**Pageloads_last_7_days**"
   ]
  },
  {
   "cell_type": "code",
   "execution_count": 64,
   "id": "41d91f25",
   "metadata": {},
   "outputs": [],
   "source": [
    "combined_data_pageload=combined_data_pageload[combined_data_pageload[\"Date\"]>\"2018-05-20\"]"
   ]
  },
  {
   "cell_type": "code",
   "execution_count": 65,
   "id": "66b5cf13",
   "metadata": {},
   "outputs": [],
   "source": [
    "Pageloads_last_7_days=combined_data_pageload.groupby([\"UserID\"])[\"Activity\"].count()"
   ]
  },
  {
   "cell_type": "code",
   "execution_count": 66,
   "id": "31157f4e",
   "metadata": {},
   "outputs": [],
   "source": [
    "feature_1= pd.merge(\n",
    "    left=feature_1,\n",
    "    right=Pageloads_last_7_days,\n",
    "    how=\"left\",\n",
    "    on='UserID',\n",
    "    copy=True)"
   ]
  },
  {
   "cell_type": "code",
   "execution_count": 67,
   "id": "ac483242",
   "metadata": {},
   "outputs": [],
   "source": [
    "feature_1[\"Pageloads_last_7_days\"]=feature_1[\"Activity\"]"
   ]
  },
  {
   "cell_type": "code",
   "execution_count": 68,
   "id": "58a17e68",
   "metadata": {},
   "outputs": [],
   "source": [
    "feature_1.drop(columns=\"Activity\",inplace=True)"
   ]
  },
  {
   "cell_type": "code",
   "execution_count": 69,
   "id": "29d2f0aa",
   "metadata": {},
   "outputs": [
    {
     "data": {
      "text/plain": [
       "UserID                           0.000000\n",
       "No_of_days_Visited_7_Days        0.000000\n",
       "No_Of_Products_Viewed_15_Days    0.000000\n",
       "User_Vintage                     0.000000\n",
       "Most_Viewed_product_15_Days      0.000000\n",
       "Most_Active_OS                   0.000000\n",
       "Recently_Viewed_Product          0.000000\n",
       "Pageloads_last_7_days            0.572452\n",
       "Clicks_last_7_days               0.000000\n",
       "dtype: float64"
      ]
     },
     "execution_count": 69,
     "metadata": {},
     "output_type": "execute_result"
    }
   ],
   "source": [
    "feature_1.isnull().mean()"
   ]
  },
  {
   "cell_type": "code",
   "execution_count": 70,
   "id": "8db54e0c",
   "metadata": {},
   "outputs": [],
   "source": [
    "feature_1.fillna(value=0,inplace=True)"
   ]
  },
  {
   "cell_type": "markdown",
   "id": "5ca039f2",
   "metadata": {},
   "source": [
    "**No_of_days_Visited_7_Days**"
   ]
  },
  {
   "cell_type": "code",
   "execution_count": 71,
   "id": "5e21ca96",
   "metadata": {},
   "outputs": [],
   "source": [
    "combined_data=combined_data[combined_data[\"Date\"]>\"2018-05-20\"]"
   ]
  },
  {
   "cell_type": "code",
   "execution_count": 72,
   "id": "ee5d8fbf",
   "metadata": {},
   "outputs": [],
   "source": [
    "No_of_days_Visited_7_Days=combined_data.groupby([\"UserID\"])[\"Activity\"].count()"
   ]
  },
  {
   "cell_type": "code",
   "execution_count": 73,
   "id": "5bdbaa40",
   "metadata": {},
   "outputs": [],
   "source": [
    "feature_1= pd.merge(\n",
    "    left=feature_1,\n",
    "    right=No_of_days_Visited_7_Days,\n",
    "    how=\"left\",\n",
    "    on='UserID',\n",
    "    copy=True)"
   ]
  },
  {
   "cell_type": "code",
   "execution_count": 74,
   "id": "cc1b1b21",
   "metadata": {},
   "outputs": [],
   "source": [
    "feature_1[\"No_of_days_Visited_7_Days\"]=feature_1[\"Activity\"]"
   ]
  },
  {
   "cell_type": "code",
   "execution_count": 75,
   "id": "8dd98e8e",
   "metadata": {},
   "outputs": [],
   "source": [
    "feature_1.drop(columns=[\"Activity\"],inplace=True)"
   ]
  },
  {
   "cell_type": "code",
   "execution_count": 76,
   "id": "9b958592",
   "metadata": {},
   "outputs": [
    {
     "data": {
      "text/plain": [
       "UserID                           0.00000\n",
       "No_of_days_Visited_7_Days        0.53815\n",
       "No_Of_Products_Viewed_15_Days    0.00000\n",
       "User_Vintage                     0.00000\n",
       "Most_Viewed_product_15_Days      0.00000\n",
       "Most_Active_OS                   0.00000\n",
       "Recently_Viewed_Product          0.00000\n",
       "Pageloads_last_7_days            0.00000\n",
       "Clicks_last_7_days               0.00000\n",
       "dtype: float64"
      ]
     },
     "execution_count": 76,
     "metadata": {},
     "output_type": "execute_result"
    }
   ],
   "source": [
    "feature_1.isnull().mean()"
   ]
  },
  {
   "cell_type": "code",
   "execution_count": 77,
   "id": "75cfb4c5",
   "metadata": {},
   "outputs": [],
   "source": [
    "feature_1.fillna(value=0,inplace=True)"
   ]
  },
  {
   "cell_type": "markdown",
   "id": "94464f40",
   "metadata": {},
   "source": [
    "**Clicks_last_7_days **"
   ]
  },
  {
   "cell_type": "code",
   "execution_count": 78,
   "id": "bcdd9417",
   "metadata": {},
   "outputs": [],
   "source": [
    "combined_data=combined_data[combined_data[\"Activity\"]==\"click\"]"
   ]
  },
  {
   "cell_type": "code",
   "execution_count": 79,
   "id": "7dc74b1c",
   "metadata": {},
   "outputs": [],
   "source": [
    "Clicks_last_7_days=combined_data.groupby([\"UserID\"])[\"Activity\"].count()"
   ]
  },
  {
   "cell_type": "code",
   "execution_count": 80,
   "id": "734cb892",
   "metadata": {},
   "outputs": [],
   "source": [
    "feature_1= pd.merge(\n",
    "    left=feature_1,\n",
    "    right=Clicks_last_7_days,\n",
    "    how=\"left\",\n",
    "    on='UserID',\n",
    "    copy=True)"
   ]
  },
  {
   "cell_type": "code",
   "execution_count": 81,
   "id": "380e095a",
   "metadata": {},
   "outputs": [],
   "source": [
    "feature_1[\"Clicks_last_7_days\"]=feature_1[\"Activity\"]"
   ]
  },
  {
   "cell_type": "code",
   "execution_count": 82,
   "id": "be100601",
   "metadata": {},
   "outputs": [],
   "source": [
    "feature_1.drop(columns=\"Activity\",inplace=True)"
   ]
  },
  {
   "cell_type": "code",
   "execution_count": 83,
   "id": "f96531f4",
   "metadata": {},
   "outputs": [
    {
     "data": {
      "text/plain": [
       "UserID                           0.000000\n",
       "No_of_days_Visited_7_Days        0.000000\n",
       "No_Of_Products_Viewed_15_Days    0.000000\n",
       "User_Vintage                     0.000000\n",
       "Most_Viewed_product_15_Days      0.000000\n",
       "Most_Active_OS                   0.000000\n",
       "Recently_Viewed_Product          0.000000\n",
       "Pageloads_last_7_days            0.000000\n",
       "Clicks_last_7_days               0.697533\n",
       "dtype: float64"
      ]
     },
     "execution_count": 83,
     "metadata": {},
     "output_type": "execute_result"
    }
   ],
   "source": [
    "feature_1.isnull().mean()"
   ]
  },
  {
   "cell_type": "code",
   "execution_count": 84,
   "id": "03b5a0be",
   "metadata": {},
   "outputs": [],
   "source": [
    "feature_1.fillna(value=0,inplace=True)#not active"
   ]
  },
  {
   "cell_type": "code",
   "execution_count": 87,
   "id": "466a05e7",
   "metadata": {},
   "outputs": [
    {
     "data": {
      "text/plain": [
       "Index(['UserID', 'No_of_days_Visited_7_Days', 'No_Of_Products_Viewed_15_Days',\n",
       "       'User_Vintage', 'Most_Viewed_product_15_Days', 'Most_Active_OS',\n",
       "       'Recently_Viewed_Product', 'Pageloads_last_7_days',\n",
       "       'Clicks_last_7_days'],\n",
       "      dtype='object')"
      ]
     },
     "execution_count": 87,
     "metadata": {},
     "output_type": "execute_result"
    }
   ],
   "source": [
    "feature_1.columns"
   ]
  },
  {
   "cell_type": "code",
   "execution_count": 91,
   "id": "07c7ea1c",
   "metadata": {},
   "outputs": [
    {
     "data": {
      "text/html": [
       "<div>\n",
       "<style scoped>\n",
       "    .dataframe tbody tr th:only-of-type {\n",
       "        vertical-align: middle;\n",
       "    }\n",
       "\n",
       "    .dataframe tbody tr th {\n",
       "        vertical-align: top;\n",
       "    }\n",
       "\n",
       "    .dataframe thead th {\n",
       "        text-align: right;\n",
       "    }\n",
       "</style>\n",
       "<table border=\"1\" class=\"dataframe\">\n",
       "  <thead>\n",
       "    <tr style=\"text-align: right;\">\n",
       "      <th></th>\n",
       "      <th>UserID</th>\n",
       "      <th>No_of_days_Visited_7_Days</th>\n",
       "      <th>No_Of_Products_Viewed_15_Days</th>\n",
       "      <th>User_Vintage</th>\n",
       "      <th>Most_Viewed_product_15_Days</th>\n",
       "      <th>Most_Active_OS</th>\n",
       "      <th>Recently_Viewed_Product</th>\n",
       "      <th>Pageloads_last_7_days</th>\n",
       "      <th>Clicks_last_7_days</th>\n",
       "    </tr>\n",
       "  </thead>\n",
       "  <tbody>\n",
       "    <tr>\n",
       "      <th>0</th>\n",
       "      <td>U100002</td>\n",
       "      <td>0</td>\n",
       "      <td>4</td>\n",
       "      <td>1</td>\n",
       "      <td>Pr101097</td>\n",
       "      <td>android</td>\n",
       "      <td>P12345</td>\n",
       "      <td>0</td>\n",
       "      <td>0</td>\n",
       "    </tr>\n",
       "    <tr>\n",
       "      <th>1</th>\n",
       "      <td>U100003</td>\n",
       "      <td>3</td>\n",
       "      <td>4</td>\n",
       "      <td>1</td>\n",
       "      <td>Pr100178</td>\n",
       "      <td>windows</td>\n",
       "      <td>P12345</td>\n",
       "      <td>1</td>\n",
       "      <td>2</td>\n",
       "    </tr>\n",
       "    <tr>\n",
       "      <th>2</th>\n",
       "      <td>U100004</td>\n",
       "      <td>1</td>\n",
       "      <td>25</td>\n",
       "      <td>1</td>\n",
       "      <td>Product101</td>\n",
       "      <td>windows</td>\n",
       "      <td>P12345</td>\n",
       "      <td>1</td>\n",
       "      <td>0</td>\n",
       "    </tr>\n",
       "    <tr>\n",
       "      <th>3</th>\n",
       "      <td>U100005</td>\n",
       "      <td>2</td>\n",
       "      <td>4</td>\n",
       "      <td>1</td>\n",
       "      <td>Pr102072</td>\n",
       "      <td>android</td>\n",
       "      <td>P12345</td>\n",
       "      <td>2</td>\n",
       "      <td>0</td>\n",
       "    </tr>\n",
       "    <tr>\n",
       "      <th>4</th>\n",
       "      <td>U100006</td>\n",
       "      <td>1</td>\n",
       "      <td>1</td>\n",
       "      <td>1</td>\n",
       "      <td>Pr101111</td>\n",
       "      <td>android</td>\n",
       "      <td>P12345</td>\n",
       "      <td>1</td>\n",
       "      <td>0</td>\n",
       "    </tr>\n",
       "    <tr>\n",
       "      <th>...</th>\n",
       "      <td>...</td>\n",
       "      <td>...</td>\n",
       "      <td>...</td>\n",
       "      <td>...</td>\n",
       "      <td>...</td>\n",
       "      <td>...</td>\n",
       "      <td>...</td>\n",
       "      <td>...</td>\n",
       "      <td>...</td>\n",
       "    </tr>\n",
       "    <tr>\n",
       "      <th>34045</th>\n",
       "      <td>U136960</td>\n",
       "      <td>0</td>\n",
       "      <td>0</td>\n",
       "      <td>1</td>\n",
       "      <td>Product101</td>\n",
       "      <td>windows</td>\n",
       "      <td>P12345</td>\n",
       "      <td>0</td>\n",
       "      <td>0</td>\n",
       "    </tr>\n",
       "    <tr>\n",
       "      <th>34046</th>\n",
       "      <td>U136961</td>\n",
       "      <td>0</td>\n",
       "      <td>0</td>\n",
       "      <td>1</td>\n",
       "      <td>Product101</td>\n",
       "      <td>android</td>\n",
       "      <td>P12345</td>\n",
       "      <td>0</td>\n",
       "      <td>0</td>\n",
       "    </tr>\n",
       "    <tr>\n",
       "      <th>34047</th>\n",
       "      <td>U136963</td>\n",
       "      <td>0</td>\n",
       "      <td>0</td>\n",
       "      <td>1</td>\n",
       "      <td>Product101</td>\n",
       "      <td>android</td>\n",
       "      <td>P12345</td>\n",
       "      <td>0</td>\n",
       "      <td>0</td>\n",
       "    </tr>\n",
       "    <tr>\n",
       "      <th>34048</th>\n",
       "      <td>U136964</td>\n",
       "      <td>0</td>\n",
       "      <td>0</td>\n",
       "      <td>1</td>\n",
       "      <td>Product101</td>\n",
       "      <td>windows</td>\n",
       "      <td>P12345</td>\n",
       "      <td>0</td>\n",
       "      <td>0</td>\n",
       "    </tr>\n",
       "    <tr>\n",
       "      <th>34049</th>\n",
       "      <td>U136965</td>\n",
       "      <td>0</td>\n",
       "      <td>0</td>\n",
       "      <td>1</td>\n",
       "      <td>Product101</td>\n",
       "      <td>android</td>\n",
       "      <td>P12345</td>\n",
       "      <td>0</td>\n",
       "      <td>0</td>\n",
       "    </tr>\n",
       "  </tbody>\n",
       "</table>\n",
       "<p>34050 rows × 9 columns</p>\n",
       "</div>"
      ],
      "text/plain": [
       "        UserID  No_of_days_Visited_7_Days  No_Of_Products_Viewed_15_Days  \\\n",
       "0      U100002                          0                              4   \n",
       "1      U100003                          3                              4   \n",
       "2      U100004                          1                             25   \n",
       "3      U100005                          2                              4   \n",
       "4      U100006                          1                              1   \n",
       "...        ...                        ...                            ...   \n",
       "34045  U136960                          0                              0   \n",
       "34046  U136961                          0                              0   \n",
       "34047  U136963                          0                              0   \n",
       "34048  U136964                          0                              0   \n",
       "34049  U136965                          0                              0   \n",
       "\n",
       "       User_Vintage Most_Viewed_product_15_Days Most_Active_OS  \\\n",
       "0                 1                    Pr101097        android   \n",
       "1                 1                    Pr100178        windows   \n",
       "2                 1                  Product101        windows   \n",
       "3                 1                    Pr102072        android   \n",
       "4                 1                    Pr101111        android   \n",
       "...             ...                         ...            ...   \n",
       "34045             1                  Product101        windows   \n",
       "34046             1                  Product101        android   \n",
       "34047             1                  Product101        android   \n",
       "34048             1                  Product101        windows   \n",
       "34049             1                  Product101        android   \n",
       "\n",
       "      Recently_Viewed_Product  Pageloads_last_7_days  Clicks_last_7_days  \n",
       "0                      P12345                      0                   0  \n",
       "1                      P12345                      1                   2  \n",
       "2                      P12345                      1                   0  \n",
       "3                      P12345                      2                   0  \n",
       "4                      P12345                      1                   0  \n",
       "...                       ...                    ...                 ...  \n",
       "34045                  P12345                      0                   0  \n",
       "34046                  P12345                      0                   0  \n",
       "34047                  P12345                      0                   0  \n",
       "34048                  P12345                      0                   0  \n",
       "34049                  P12345                      0                   0  \n",
       "\n",
       "[34050 rows x 9 columns]"
      ]
     },
     "execution_count": 91,
     "metadata": {},
     "output_type": "execute_result"
    }
   ],
   "source": [
    "feature_1"
   ]
  },
  {
   "cell_type": "markdown",
   "id": "4a1bd098",
   "metadata": {},
   "source": [
    "Convert var to int"
   ]
  },
  {
   "cell_type": "code",
   "execution_count": 90,
   "id": "19f964fc",
   "metadata": {},
   "outputs": [],
   "source": [
    "feature_1=feature_1.astype({'No_of_days_Visited_7_Days':'int','Pageloads_last_7_days':'int','Clicks_last_7_days':'int','No_Of_Products_Viewed_15_Days':'int'})"
   ]
  },
  {
   "cell_type": "code",
   "execution_count": 92,
   "id": "be01c20d",
   "metadata": {},
   "outputs": [],
   "source": [
    "feature_1.to_csv(\"checking_1.csv\",index=False)"
   ]
  },
  {
   "cell_type": "code",
   "execution_count": 93,
   "id": "87691254",
   "metadata": {},
   "outputs": [],
   "source": [
    "f_null=feature_1"
   ]
  },
  {
   "cell_type": "code",
   "execution_count": 94,
   "id": "172bd3fe",
   "metadata": {},
   "outputs": [],
   "source": [
    "f_null[\"User_Vintage\"]=\"\""
   ]
  },
  {
   "cell_type": "code",
   "execution_count": 96,
   "id": "5d3a5ce0",
   "metadata": {},
   "outputs": [],
   "source": [
    "f_null[\"Recently_Viewed_Product\"]=\"\""
   ]
  },
  {
   "cell_type": "code",
   "execution_count": 97,
   "id": "6f81b458",
   "metadata": {},
   "outputs": [],
   "source": [
    "f_null.to_csv(\"checking_2.csv\",index=False)"
   ]
  },
  {
   "cell_type": "code",
   "execution_count": null,
   "id": "29b8f41b",
   "metadata": {},
   "outputs": [],
   "source": []
  },
  {
   "cell_type": "code",
   "execution_count": null,
   "id": "33fefa28",
   "metadata": {},
   "outputs": [],
   "source": []
  },
  {
   "cell_type": "code",
   "execution_count": null,
   "id": "a3aaec1b",
   "metadata": {},
   "outputs": [],
   "source": []
  },
  {
   "cell_type": "markdown",
   "id": "11c57294",
   "metadata": {},
   "source": [
    "***User_Vintage***"
   ]
  },
  {
   "cell_type": "code",
   "execution_count": 86,
   "id": "9074c68a",
   "metadata": {},
   "outputs": [
    {
     "name": "stderr",
     "output_type": "stream",
     "text": [
      "C:\\ProgramData\\Anaconda3\\lib\\site-packages\\pandas\\core\\arrays\\datetimelike.py:1108: PerformanceWarning: Adding/subtracting object-dtype array to DatetimeArray not vectorized\n",
      "  warnings.warn(\n"
     ]
    },
    {
     "ename": "TypeError",
     "evalue": "unsupported operand type(s) for -: 'Timestamp' and 'str'",
     "output_type": "error",
     "traceback": [
      "\u001b[1;31m---------------------------------------------------------------------------\u001b[0m",
      "\u001b[1;31mTypeError\u001b[0m                                 Traceback (most recent call last)",
      "\u001b[1;32m<ipython-input-86-8c6a4c505d98>\u001b[0m in \u001b[0;36m<module>\u001b[1;34m\u001b[0m\n\u001b[1;32m----> 1\u001b[1;33m \u001b[0mcombined_data\u001b[0m\u001b[1;33m[\u001b[0m\u001b[1;34m\"Tdate\"\u001b[0m\u001b[1;33m]\u001b[0m\u001b[1;33m=\u001b[0m\u001b[0mcombined_data\u001b[0m\u001b[1;33m[\u001b[0m\u001b[1;34m\"Date\"\u001b[0m\u001b[1;33m]\u001b[0m\u001b[1;33m-\u001b[0m\u001b[0mcombined_data\u001b[0m\u001b[1;33m[\u001b[0m\u001b[1;34m\"Signup Date\"\u001b[0m\u001b[1;33m]\u001b[0m\u001b[1;33m\u001b[0m\u001b[1;33m\u001b[0m\u001b[0m\n\u001b[0m",
      "\u001b[1;32mC:\\ProgramData\\Anaconda3\\lib\\site-packages\\pandas\\core\\ops\\common.py\u001b[0m in \u001b[0;36mnew_method\u001b[1;34m(self, other)\u001b[0m\n\u001b[0;32m     63\u001b[0m         \u001b[0mother\u001b[0m \u001b[1;33m=\u001b[0m \u001b[0mitem_from_zerodim\u001b[0m\u001b[1;33m(\u001b[0m\u001b[0mother\u001b[0m\u001b[1;33m)\u001b[0m\u001b[1;33m\u001b[0m\u001b[1;33m\u001b[0m\u001b[0m\n\u001b[0;32m     64\u001b[0m \u001b[1;33m\u001b[0m\u001b[0m\n\u001b[1;32m---> 65\u001b[1;33m         \u001b[1;32mreturn\u001b[0m \u001b[0mmethod\u001b[0m\u001b[1;33m(\u001b[0m\u001b[0mself\u001b[0m\u001b[1;33m,\u001b[0m \u001b[0mother\u001b[0m\u001b[1;33m)\u001b[0m\u001b[1;33m\u001b[0m\u001b[1;33m\u001b[0m\u001b[0m\n\u001b[0m\u001b[0;32m     66\u001b[0m \u001b[1;33m\u001b[0m\u001b[0m\n\u001b[0;32m     67\u001b[0m     \u001b[1;32mreturn\u001b[0m \u001b[0mnew_method\u001b[0m\u001b[1;33m\u001b[0m\u001b[1;33m\u001b[0m\u001b[0m\n",
      "\u001b[1;32mC:\\ProgramData\\Anaconda3\\lib\\site-packages\\pandas\\core\\arraylike.py\u001b[0m in \u001b[0;36m__sub__\u001b[1;34m(self, other)\u001b[0m\n\u001b[0;32m     95\u001b[0m     \u001b[1;33m@\u001b[0m\u001b[0munpack_zerodim_and_defer\u001b[0m\u001b[1;33m(\u001b[0m\u001b[1;34m\"__sub__\"\u001b[0m\u001b[1;33m)\u001b[0m\u001b[1;33m\u001b[0m\u001b[1;33m\u001b[0m\u001b[0m\n\u001b[0;32m     96\u001b[0m     \u001b[1;32mdef\u001b[0m \u001b[0m__sub__\u001b[0m\u001b[1;33m(\u001b[0m\u001b[0mself\u001b[0m\u001b[1;33m,\u001b[0m \u001b[0mother\u001b[0m\u001b[1;33m)\u001b[0m\u001b[1;33m:\u001b[0m\u001b[1;33m\u001b[0m\u001b[1;33m\u001b[0m\u001b[0m\n\u001b[1;32m---> 97\u001b[1;33m         \u001b[1;32mreturn\u001b[0m \u001b[0mself\u001b[0m\u001b[1;33m.\u001b[0m\u001b[0m_arith_method\u001b[0m\u001b[1;33m(\u001b[0m\u001b[0mother\u001b[0m\u001b[1;33m,\u001b[0m \u001b[0moperator\u001b[0m\u001b[1;33m.\u001b[0m\u001b[0msub\u001b[0m\u001b[1;33m)\u001b[0m\u001b[1;33m\u001b[0m\u001b[1;33m\u001b[0m\u001b[0m\n\u001b[0m\u001b[0;32m     98\u001b[0m \u001b[1;33m\u001b[0m\u001b[0m\n\u001b[0;32m     99\u001b[0m     \u001b[1;33m@\u001b[0m\u001b[0munpack_zerodim_and_defer\u001b[0m\u001b[1;33m(\u001b[0m\u001b[1;34m\"__rsub__\"\u001b[0m\u001b[1;33m)\u001b[0m\u001b[1;33m\u001b[0m\u001b[1;33m\u001b[0m\u001b[0m\n",
      "\u001b[1;32mC:\\ProgramData\\Anaconda3\\lib\\site-packages\\pandas\\core\\series.py\u001b[0m in \u001b[0;36m_arith_method\u001b[1;34m(self, other, op)\u001b[0m\n\u001b[0;32m   4996\u001b[0m         \u001b[0mlvalues\u001b[0m \u001b[1;33m=\u001b[0m \u001b[0mextract_array\u001b[0m\u001b[1;33m(\u001b[0m\u001b[0mself\u001b[0m\u001b[1;33m,\u001b[0m \u001b[0mextract_numpy\u001b[0m\u001b[1;33m=\u001b[0m\u001b[1;32mTrue\u001b[0m\u001b[1;33m)\u001b[0m\u001b[1;33m\u001b[0m\u001b[1;33m\u001b[0m\u001b[0m\n\u001b[0;32m   4997\u001b[0m         \u001b[0mrvalues\u001b[0m \u001b[1;33m=\u001b[0m \u001b[0mextract_array\u001b[0m\u001b[1;33m(\u001b[0m\u001b[0mother\u001b[0m\u001b[1;33m,\u001b[0m \u001b[0mextract_numpy\u001b[0m\u001b[1;33m=\u001b[0m\u001b[1;32mTrue\u001b[0m\u001b[1;33m)\u001b[0m\u001b[1;33m\u001b[0m\u001b[1;33m\u001b[0m\u001b[0m\n\u001b[1;32m-> 4998\u001b[1;33m         \u001b[0mresult\u001b[0m \u001b[1;33m=\u001b[0m \u001b[0mops\u001b[0m\u001b[1;33m.\u001b[0m\u001b[0marithmetic_op\u001b[0m\u001b[1;33m(\u001b[0m\u001b[0mlvalues\u001b[0m\u001b[1;33m,\u001b[0m \u001b[0mrvalues\u001b[0m\u001b[1;33m,\u001b[0m \u001b[0mop\u001b[0m\u001b[1;33m)\u001b[0m\u001b[1;33m\u001b[0m\u001b[1;33m\u001b[0m\u001b[0m\n\u001b[0m\u001b[0;32m   4999\u001b[0m \u001b[1;33m\u001b[0m\u001b[0m\n\u001b[0;32m   5000\u001b[0m         \u001b[1;32mreturn\u001b[0m \u001b[0mself\u001b[0m\u001b[1;33m.\u001b[0m\u001b[0m_construct_result\u001b[0m\u001b[1;33m(\u001b[0m\u001b[0mresult\u001b[0m\u001b[1;33m,\u001b[0m \u001b[0mname\u001b[0m\u001b[1;33m=\u001b[0m\u001b[0mres_name\u001b[0m\u001b[1;33m)\u001b[0m\u001b[1;33m\u001b[0m\u001b[1;33m\u001b[0m\u001b[0m\n",
      "\u001b[1;32mC:\\ProgramData\\Anaconda3\\lib\\site-packages\\pandas\\core\\ops\\array_ops.py\u001b[0m in \u001b[0;36marithmetic_op\u001b[1;34m(left, right, op)\u001b[0m\n\u001b[0;32m    183\u001b[0m     \u001b[1;32mif\u001b[0m \u001b[0mshould_extension_dispatch\u001b[0m\u001b[1;33m(\u001b[0m\u001b[0mlvalues\u001b[0m\u001b[1;33m,\u001b[0m \u001b[0mrvalues\u001b[0m\u001b[1;33m)\u001b[0m \u001b[1;32mor\u001b[0m \u001b[0misinstance\u001b[0m\u001b[1;33m(\u001b[0m\u001b[0mrvalues\u001b[0m\u001b[1;33m,\u001b[0m \u001b[0mTimedelta\u001b[0m\u001b[1;33m)\u001b[0m\u001b[1;33m:\u001b[0m\u001b[1;33m\u001b[0m\u001b[1;33m\u001b[0m\u001b[0m\n\u001b[0;32m    184\u001b[0m         \u001b[1;31m# Timedelta is included because numexpr will fail on it, see GH#31457\u001b[0m\u001b[1;33m\u001b[0m\u001b[1;33m\u001b[0m\u001b[1;33m\u001b[0m\u001b[0m\n\u001b[1;32m--> 185\u001b[1;33m         \u001b[0mres_values\u001b[0m \u001b[1;33m=\u001b[0m \u001b[0mop\u001b[0m\u001b[1;33m(\u001b[0m\u001b[0mlvalues\u001b[0m\u001b[1;33m,\u001b[0m \u001b[0mrvalues\u001b[0m\u001b[1;33m)\u001b[0m\u001b[1;33m\u001b[0m\u001b[1;33m\u001b[0m\u001b[0m\n\u001b[0m\u001b[0;32m    186\u001b[0m \u001b[1;33m\u001b[0m\u001b[0m\n\u001b[0;32m    187\u001b[0m     \u001b[1;32melse\u001b[0m\u001b[1;33m:\u001b[0m\u001b[1;33m\u001b[0m\u001b[1;33m\u001b[0m\u001b[0m\n",
      "\u001b[1;32mC:\\ProgramData\\Anaconda3\\lib\\site-packages\\pandas\\core\\ops\\common.py\u001b[0m in \u001b[0;36mnew_method\u001b[1;34m(self, other)\u001b[0m\n\u001b[0;32m     63\u001b[0m         \u001b[0mother\u001b[0m \u001b[1;33m=\u001b[0m \u001b[0mitem_from_zerodim\u001b[0m\u001b[1;33m(\u001b[0m\u001b[0mother\u001b[0m\u001b[1;33m)\u001b[0m\u001b[1;33m\u001b[0m\u001b[1;33m\u001b[0m\u001b[0m\n\u001b[0;32m     64\u001b[0m \u001b[1;33m\u001b[0m\u001b[0m\n\u001b[1;32m---> 65\u001b[1;33m         \u001b[1;32mreturn\u001b[0m \u001b[0mmethod\u001b[0m\u001b[1;33m(\u001b[0m\u001b[0mself\u001b[0m\u001b[1;33m,\u001b[0m \u001b[0mother\u001b[0m\u001b[1;33m)\u001b[0m\u001b[1;33m\u001b[0m\u001b[1;33m\u001b[0m\u001b[0m\n\u001b[0m\u001b[0;32m     66\u001b[0m \u001b[1;33m\u001b[0m\u001b[0m\n\u001b[0;32m     67\u001b[0m     \u001b[1;32mreturn\u001b[0m \u001b[0mnew_method\u001b[0m\u001b[1;33m\u001b[0m\u001b[1;33m\u001b[0m\u001b[0m\n",
      "\u001b[1;32mC:\\ProgramData\\Anaconda3\\lib\\site-packages\\pandas\\core\\arrays\\datetimelike.py\u001b[0m in \u001b[0;36m__sub__\u001b[1;34m(self, other)\u001b[0m\n\u001b[0;32m   1242\u001b[0m         \u001b[1;32melif\u001b[0m \u001b[0mis_object_dtype\u001b[0m\u001b[1;33m(\u001b[0m\u001b[0mother_dtype\u001b[0m\u001b[1;33m)\u001b[0m\u001b[1;33m:\u001b[0m\u001b[1;33m\u001b[0m\u001b[1;33m\u001b[0m\u001b[0m\n\u001b[0;32m   1243\u001b[0m             \u001b[1;31m# e.g. Array/Index of DateOffset objects\u001b[0m\u001b[1;33m\u001b[0m\u001b[1;33m\u001b[0m\u001b[1;33m\u001b[0m\u001b[0m\n\u001b[1;32m-> 1244\u001b[1;33m             \u001b[0mresult\u001b[0m \u001b[1;33m=\u001b[0m \u001b[0mself\u001b[0m\u001b[1;33m.\u001b[0m\u001b[0m_addsub_object_array\u001b[0m\u001b[1;33m(\u001b[0m\u001b[0mother\u001b[0m\u001b[1;33m,\u001b[0m \u001b[0moperator\u001b[0m\u001b[1;33m.\u001b[0m\u001b[0msub\u001b[0m\u001b[1;33m)\u001b[0m\u001b[1;33m\u001b[0m\u001b[1;33m\u001b[0m\u001b[0m\n\u001b[0m\u001b[0;32m   1245\u001b[0m         \u001b[1;32melif\u001b[0m \u001b[0mis_datetime64_dtype\u001b[0m\u001b[1;33m(\u001b[0m\u001b[0mother_dtype\u001b[0m\u001b[1;33m)\u001b[0m \u001b[1;32mor\u001b[0m \u001b[0mis_datetime64tz_dtype\u001b[0m\u001b[1;33m(\u001b[0m\u001b[0mother_dtype\u001b[0m\u001b[1;33m)\u001b[0m\u001b[1;33m:\u001b[0m\u001b[1;33m\u001b[0m\u001b[1;33m\u001b[0m\u001b[0m\n\u001b[0;32m   1246\u001b[0m             \u001b[1;31m# DatetimeIndex, ndarray[datetime64]\u001b[0m\u001b[1;33m\u001b[0m\u001b[1;33m\u001b[0m\u001b[1;33m\u001b[0m\u001b[0m\n",
      "\u001b[1;32mC:\\ProgramData\\Anaconda3\\lib\\site-packages\\pandas\\core\\arrays\\datetimelike.py\u001b[0m in \u001b[0;36m_addsub_object_array\u001b[1;34m(self, other, op)\u001b[0m\n\u001b[0;32m   1115\u001b[0m         \u001b[1;32massert\u001b[0m \u001b[0mself\u001b[0m\u001b[1;33m.\u001b[0m\u001b[0mshape\u001b[0m \u001b[1;33m==\u001b[0m \u001b[0mother\u001b[0m\u001b[1;33m.\u001b[0m\u001b[0mshape\u001b[0m\u001b[1;33m,\u001b[0m \u001b[1;33m(\u001b[0m\u001b[0mself\u001b[0m\u001b[1;33m.\u001b[0m\u001b[0mshape\u001b[0m\u001b[1;33m,\u001b[0m \u001b[0mother\u001b[0m\u001b[1;33m.\u001b[0m\u001b[0mshape\u001b[0m\u001b[1;33m)\u001b[0m\u001b[1;33m\u001b[0m\u001b[1;33m\u001b[0m\u001b[0m\n\u001b[0;32m   1116\u001b[0m \u001b[1;33m\u001b[0m\u001b[0m\n\u001b[1;32m-> 1117\u001b[1;33m         \u001b[0mres_values\u001b[0m \u001b[1;33m=\u001b[0m \u001b[0mop\u001b[0m\u001b[1;33m(\u001b[0m\u001b[0mself\u001b[0m\u001b[1;33m.\u001b[0m\u001b[0mastype\u001b[0m\u001b[1;33m(\u001b[0m\u001b[1;34m\"O\"\u001b[0m\u001b[1;33m)\u001b[0m\u001b[1;33m,\u001b[0m \u001b[0mnp\u001b[0m\u001b[1;33m.\u001b[0m\u001b[0masarray\u001b[0m\u001b[1;33m(\u001b[0m\u001b[0mother\u001b[0m\u001b[1;33m)\u001b[0m\u001b[1;33m)\u001b[0m\u001b[1;33m\u001b[0m\u001b[1;33m\u001b[0m\u001b[0m\n\u001b[0m\u001b[0;32m   1118\u001b[0m         \u001b[0mresult\u001b[0m \u001b[1;33m=\u001b[0m \u001b[0marray\u001b[0m\u001b[1;33m(\u001b[0m\u001b[0mres_values\u001b[0m\u001b[1;33m.\u001b[0m\u001b[0mravel\u001b[0m\u001b[1;33m(\u001b[0m\u001b[1;33m)\u001b[0m\u001b[1;33m)\u001b[0m\u001b[1;33m\u001b[0m\u001b[1;33m\u001b[0m\u001b[0m\n\u001b[0;32m   1119\u001b[0m         \u001b[0mresult\u001b[0m \u001b[1;33m=\u001b[0m \u001b[0mextract_array\u001b[0m\u001b[1;33m(\u001b[0m\u001b[0mresult\u001b[0m\u001b[1;33m,\u001b[0m \u001b[0mextract_numpy\u001b[0m\u001b[1;33m=\u001b[0m\u001b[1;32mTrue\u001b[0m\u001b[1;33m)\u001b[0m\u001b[1;33m.\u001b[0m\u001b[0mreshape\u001b[0m\u001b[1;33m(\u001b[0m\u001b[0mself\u001b[0m\u001b[1;33m.\u001b[0m\u001b[0mshape\u001b[0m\u001b[1;33m)\u001b[0m\u001b[1;33m\u001b[0m\u001b[1;33m\u001b[0m\u001b[0m\n",
      "\u001b[1;31mTypeError\u001b[0m: unsupported operand type(s) for -: 'Timestamp' and 'str'"
     ]
    }
   ],
   "source": [
    "combined_data[\"Tdate\"]=combined_data[\"Date\"]-combined_data[\"Signup Date\"]"
   ]
  },
  {
   "cell_type": "code",
   "execution_count": null,
   "id": "e7614d3a",
   "metadata": {},
   "outputs": [],
   "source": []
  },
  {
   "cell_type": "code",
   "execution_count": null,
   "id": "15f45dfa",
   "metadata": {},
   "outputs": [],
   "source": []
  },
  {
   "cell_type": "code",
   "execution_count": null,
   "id": "bf0c8ec7",
   "metadata": {},
   "outputs": [],
   "source": []
  },
  {
   "cell_type": "code",
   "execution_count": null,
   "id": "ef528840",
   "metadata": {},
   "outputs": [],
   "source": []
  },
  {
   "cell_type": "code",
   "execution_count": null,
   "id": "aed3a5c7",
   "metadata": {},
   "outputs": [],
   "source": []
  },
  {
   "cell_type": "code",
   "execution_count": null,
   "id": "b68967a6",
   "metadata": {},
   "outputs": [],
   "source": []
  },
  {
   "cell_type": "code",
   "execution_count": null,
   "id": "5206182b",
   "metadata": {},
   "outputs": [],
   "source": []
  }
 ],
 "metadata": {
  "kernelspec": {
   "display_name": "Python 3",
   "language": "python",
   "name": "python3"
  },
  "language_info": {
   "codemirror_mode": {
    "name": "ipython",
    "version": 3
   },
   "file_extension": ".py",
   "mimetype": "text/x-python",
   "name": "python",
   "nbconvert_exporter": "python",
   "pygments_lexer": "ipython3",
   "version": "3.8.8"
  }
 },
 "nbformat": 4,
 "nbformat_minor": 5
}
