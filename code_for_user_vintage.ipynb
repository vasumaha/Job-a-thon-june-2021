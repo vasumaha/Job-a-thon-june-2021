{
 "cells": [
  {
   "cell_type": "code",
   "execution_count": 32,
   "id": "4ff14145",
   "metadata": {},
   "outputs": [],
   "source": [
    "#import libaries\n",
    "import pandas as pd\n",
    "import numpy as np\n",
    "import matplotlib.pyplot as  plt\n",
    "import seaborn as sns\n",
    "from datetime import datetime\n",
    "import datetime"
   ]
  },
  {
   "cell_type": "code",
   "execution_count": 2,
   "id": "3fc3c6ae",
   "metadata": {},
   "outputs": [],
   "source": [
    "usr=pd.read_csv(\"userTable.csv\")"
   ]
  },
  {
   "cell_type": "code",
   "execution_count": 3,
   "id": "d09d9af1",
   "metadata": {},
   "outputs": [],
   "source": [
    "usr[\"Signup Date\"]=usr[\"Signup Date\"].astype(\"datetime64[ns]\")"
   ]
  },
  {
   "cell_type": "code",
   "execution_count": 4,
   "id": "c42e15c2",
   "metadata": {},
   "outputs": [],
   "source": [
    "col_list=[\"VisitDateTime\",\"ProductID\",\"UserID\",\"Activity\",\"OS\"]"
   ]
  },
  {
   "cell_type": "code",
   "execution_count": 5,
   "id": "adce3e2a",
   "metadata": {},
   "outputs": [],
   "source": [
    "vis=pd.read_csv(\"VisitorLogsData.csv\",usecols=col_list)"
   ]
  },
  {
   "cell_type": "code",
   "execution_count": 6,
   "id": "3a4441c4",
   "metadata": {},
   "outputs": [],
   "source": [
    "vis=vis.dropna(subset=[\"UserID\"])"
   ]
  },
  {
   "cell_type": "code",
   "execution_count": 7,
   "id": "cfc5ac4d",
   "metadata": {},
   "outputs": [],
   "source": [
    "vis[\"Activity\"]=vis[\"Activity\"].str.lower()"
   ]
  },
  {
   "cell_type": "code",
   "execution_count": 8,
   "id": "bc60d080",
   "metadata": {},
   "outputs": [],
   "source": [
    "vis.Activity.fillna(value=\"pageload\",inplace=True)#if he has not clicked it can be assumed to be browsing"
   ]
  },
  {
   "cell_type": "code",
   "execution_count": 9,
   "id": "e3b7c306",
   "metadata": {},
   "outputs": [],
   "source": [
    "vis[\"ProductID\"]=vis[\"ProductID\"].str.title()#after seeing values we found out disperancy in casig converting to camel case"
   ]
  },
  {
   "cell_type": "code",
   "execution_count": 10,
   "id": "933951c7",
   "metadata": {},
   "outputs": [],
   "source": [
    "vis.ProductID.fillna(value=\"Product101\",inplace=True)#giving in question"
   ]
  },
  {
   "cell_type": "code",
   "execution_count": 11,
   "id": "f87d5a89",
   "metadata": {},
   "outputs": [
    {
     "ename": "NameError",
     "evalue": "name 'hgyfyiy' is not defined",
     "output_type": "error",
     "traceback": [
      "\u001b[1;31m---------------------------------------------------------------------------\u001b[0m",
      "\u001b[1;31mNameError\u001b[0m                                 Traceback (most recent call last)",
      "\u001b[1;32m<ipython-input-11-9f03a264f06a>\u001b[0m in \u001b[0;36m<module>\u001b[1;34m\u001b[0m\n\u001b[1;32m----> 1\u001b[1;33m \u001b[0mhgyfyiy\u001b[0m\u001b[1;33m\u001b[0m\u001b[1;33m\u001b[0m\u001b[0m\n\u001b[0m",
      "\u001b[1;31mNameError\u001b[0m: name 'hgyfyiy' is not defined"
     ]
    }
   ],
   "source": [
    "hgyfyiy"
   ]
  },
  {
   "cell_type": "code",
   "execution_count": 12,
   "id": "be911076",
   "metadata": {},
   "outputs": [],
   "source": [
    "vis[\"OS\"]=vis[\"OS\"].str.lower()"
   ]
  },
  {
   "cell_type": "code",
   "execution_count": null,
   "id": "41551eda",
   "metadata": {},
   "outputs": [],
   "source": [
    "most_frequent_os=vis.OS.max()"
   ]
  },
  {
   "cell_type": "code",
   "execution_count": 13,
   "id": "3b467aed",
   "metadata": {},
   "outputs": [
    {
     "data": {
      "text/plain": [
       "windows      463639\n",
       "android       89184\n",
       "mac os x      55260\n",
       "linux         24020\n",
       "ubuntu        13337\n",
       "ios            4390\n",
       "chrome os       709\n",
       "fedora          141\n",
       "tizen            15\n",
       "Name: OS, dtype: int64"
      ]
     },
     "execution_count": 13,
     "metadata": {},
     "output_type": "execute_result"
    }
   ],
   "source": [
    "vis.OS.value_counts()"
   ]
  },
  {
   "cell_type": "code",
   "execution_count": 15,
   "id": "3b080b6b",
   "metadata": {},
   "outputs": [],
   "source": [
    "frequencies=vis.OS.value_counts(normalize=True,ascending=True)"
   ]
  },
  {
   "cell_type": "code",
   "execution_count": 16,
   "id": "2e6be7c8",
   "metadata": {},
   "outputs": [],
   "source": [
    "threshold=frequencies[(frequencies.cumsum()>0.1).idxmax()]"
   ]
  },
  {
   "cell_type": "code",
   "execution_count": 21,
   "id": "af8c38d9",
   "metadata": {},
   "outputs": [],
   "source": [
    "vis['OS']=vis.OS.mask(vis['OS'].map(vis['OS'].value_counts(normalize=True)) < 0.01, 'rare')\n"
   ]
  },
  {
   "cell_type": "code",
   "execution_count": 22,
   "id": "a1235e29",
   "metadata": {},
   "outputs": [
    {
     "data": {
      "text/html": [
       "<div>\n",
       "<style scoped>\n",
       "    .dataframe tbody tr th:only-of-type {\n",
       "        vertical-align: middle;\n",
       "    }\n",
       "\n",
       "    .dataframe tbody tr th {\n",
       "        vertical-align: top;\n",
       "    }\n",
       "\n",
       "    .dataframe thead th {\n",
       "        text-align: right;\n",
       "    }\n",
       "</style>\n",
       "<table border=\"1\" class=\"dataframe\">\n",
       "  <thead>\n",
       "    <tr style=\"text-align: right;\">\n",
       "      <th></th>\n",
       "      <th>VisitDateTime</th>\n",
       "      <th>ProductID</th>\n",
       "      <th>UserID</th>\n",
       "      <th>Activity</th>\n",
       "      <th>OS</th>\n",
       "    </tr>\n",
       "  </thead>\n",
       "  <tbody>\n",
       "    <tr>\n",
       "      <th>count</th>\n",
       "      <td>585892</td>\n",
       "      <td>650695</td>\n",
       "      <td>650695</td>\n",
       "      <td>650695</td>\n",
       "      <td>650695</td>\n",
       "    </tr>\n",
       "    <tr>\n",
       "      <th>unique</th>\n",
       "      <td>542183</td>\n",
       "      <td>4635</td>\n",
       "      <td>34050</td>\n",
       "      <td>2</td>\n",
       "      <td>6</td>\n",
       "    </tr>\n",
       "    <tr>\n",
       "      <th>top</th>\n",
       "      <td>2018-05-09 13:44:40.741</td>\n",
       "      <td>Pr101042</td>\n",
       "      <td>U100347</td>\n",
       "      <td>click</td>\n",
       "      <td>windows</td>\n",
       "    </tr>\n",
       "    <tr>\n",
       "      <th>freq</th>\n",
       "      <td>4</td>\n",
       "      <td>80785</td>\n",
       "      <td>14671</td>\n",
       "      <td>395613</td>\n",
       "      <td>463639</td>\n",
       "    </tr>\n",
       "  </tbody>\n",
       "</table>\n",
       "</div>"
      ],
      "text/plain": [
       "                  VisitDateTime ProductID   UserID Activity       OS\n",
       "count                    585892    650695   650695   650695   650695\n",
       "unique                   542183      4635    34050        2        6\n",
       "top     2018-05-09 13:44:40.741  Pr101042  U100347    click  windows\n",
       "freq                          4     80785    14671   395613   463639"
      ]
     },
     "execution_count": 22,
     "metadata": {},
     "output_type": "execute_result"
    }
   ],
   "source": [
    "vis.describe()"
   ]
  },
  {
   "cell_type": "code",
   "execution_count": null,
   "id": "49f2b7dc",
   "metadata": {},
   "outputs": [],
   "source": []
  },
  {
   "cell_type": "code",
   "execution_count": 23,
   "id": "415a458f",
   "metadata": {},
   "outputs": [
    {
     "data": {
      "text/plain": [
       "VisitDateTime    0.09959\n",
       "ProductID        0.00000\n",
       "UserID           0.00000\n",
       "Activity         0.00000\n",
       "OS               0.00000\n",
       "dtype: float64"
      ]
     },
     "execution_count": 23,
     "metadata": {},
     "output_type": "execute_result"
    }
   ],
   "source": [
    "vis.isnull().mean()"
   ]
  },
  {
   "cell_type": "code",
   "execution_count": 24,
   "id": "bdd8817f",
   "metadata": {},
   "outputs": [],
   "source": [
    "vis[\"VisitDateTime\"]=vis[\"VisitDateTime\"].astype(\"category\")\n",
    "vis[\"VisitDateTime\"]=vis[\"VisitDateTime\"].astype('datetime64[ns]')"
   ]
  },
  {
   "cell_type": "code",
   "execution_count": null,
   "id": "ebc8855c",
   "metadata": {},
   "outputs": [],
   "source": []
  },
  {
   "cell_type": "code",
   "execution_count": null,
   "id": "91790af7",
   "metadata": {},
   "outputs": [],
   "source": []
  },
  {
   "cell_type": "code",
   "execution_count": null,
   "id": "938aaed9",
   "metadata": {},
   "outputs": [],
   "source": [
    "vis.describe()"
   ]
  },
  {
   "cell_type": "code",
   "execution_count": null,
   "id": "362fc5f6",
   "metadata": {},
   "outputs": [],
   "source": [
    "vis.isnull().mean()"
   ]
  },
  {
   "cell_type": "code",
   "execution_count": 25,
   "id": "837293c1",
   "metadata": {},
   "outputs": [],
   "source": [
    "vis.VisitDateTime.dropna(inplace=True)#can't alter visit date time"
   ]
  },
  {
   "cell_type": "code",
   "execution_count": null,
   "id": "74836203",
   "metadata": {},
   "outputs": [],
   "source": [
    "vis.describe()"
   ]
  },
  {
   "cell_type": "code",
   "execution_count": 39,
   "id": "64211993",
   "metadata": {},
   "outputs": [],
   "source": [
    "f_file=pd.read_csv(\"feature_uv_null_no_recentviwed.csv\")"
   ]
  },
  {
   "cell_type": "code",
   "execution_count": 42,
   "id": "7edf6e42",
   "metadata": {},
   "outputs": [
    {
     "data": {
      "text/html": [
       "<div>\n",
       "<style scoped>\n",
       "    .dataframe tbody tr th:only-of-type {\n",
       "        vertical-align: middle;\n",
       "    }\n",
       "\n",
       "    .dataframe tbody tr th {\n",
       "        vertical-align: top;\n",
       "    }\n",
       "\n",
       "    .dataframe thead th {\n",
       "        text-align: right;\n",
       "    }\n",
       "</style>\n",
       "<table border=\"1\" class=\"dataframe\">\n",
       "  <thead>\n",
       "    <tr style=\"text-align: right;\">\n",
       "      <th></th>\n",
       "      <th>UserID</th>\n",
       "      <th>No_of_days_Visited_7_Days</th>\n",
       "      <th>No_Of_Products_Viewed_15_Days</th>\n",
       "      <th>User_Vintage</th>\n",
       "      <th>Most_Viewed_product_15_Days</th>\n",
       "      <th>Most_Active_OS</th>\n",
       "      <th>Recently_Viewed_Product</th>\n",
       "      <th>Pageloads_last_7_days</th>\n",
       "      <th>Clicks_last_7_days</th>\n",
       "    </tr>\n",
       "  </thead>\n",
       "  <tbody>\n",
       "    <tr>\n",
       "      <th>0</th>\n",
       "      <td>U100002</td>\n",
       "      <td>0</td>\n",
       "      <td>4</td>\n",
       "      <td>42.0</td>\n",
       "      <td>Pr101097</td>\n",
       "      <td>android</td>\n",
       "      <td>P12345</td>\n",
       "      <td>0</td>\n",
       "      <td>0</td>\n",
       "    </tr>\n",
       "    <tr>\n",
       "      <th>1</th>\n",
       "      <td>U100003</td>\n",
       "      <td>3</td>\n",
       "      <td>4</td>\n",
       "      <td>1017.0</td>\n",
       "      <td>Pr100178</td>\n",
       "      <td>windows</td>\n",
       "      <td>P12345</td>\n",
       "      <td>1</td>\n",
       "      <td>2</td>\n",
       "    </tr>\n",
       "    <tr>\n",
       "      <th>2</th>\n",
       "      <td>U100004</td>\n",
       "      <td>1</td>\n",
       "      <td>25</td>\n",
       "      <td>333.0</td>\n",
       "      <td>Product101</td>\n",
       "      <td>windows</td>\n",
       "      <td>P12345</td>\n",
       "      <td>1</td>\n",
       "      <td>0</td>\n",
       "    </tr>\n",
       "    <tr>\n",
       "      <th>3</th>\n",
       "      <td>U100005</td>\n",
       "      <td>2</td>\n",
       "      <td>4</td>\n",
       "      <td>678.0</td>\n",
       "      <td>Pr102072</td>\n",
       "      <td>android</td>\n",
       "      <td>P12345</td>\n",
       "      <td>2</td>\n",
       "      <td>0</td>\n",
       "    </tr>\n",
       "    <tr>\n",
       "      <th>4</th>\n",
       "      <td>U100006</td>\n",
       "      <td>1</td>\n",
       "      <td>1</td>\n",
       "      <td>47.0</td>\n",
       "      <td>Pr101111</td>\n",
       "      <td>android</td>\n",
       "      <td>P12345</td>\n",
       "      <td>1</td>\n",
       "      <td>0</td>\n",
       "    </tr>\n",
       "  </tbody>\n",
       "</table>\n",
       "</div>"
      ],
      "text/plain": [
       "    UserID  No_of_days_Visited_7_Days  No_Of_Products_Viewed_15_Days  \\\n",
       "0  U100002                          0                              4   \n",
       "1  U100003                          3                              4   \n",
       "2  U100004                          1                             25   \n",
       "3  U100005                          2                              4   \n",
       "4  U100006                          1                              1   \n",
       "\n",
       "   User_Vintage Most_Viewed_product_15_Days Most_Active_OS  \\\n",
       "0          42.0                    Pr101097        android   \n",
       "1        1017.0                    Pr100178        windows   \n",
       "2         333.0                  Product101        windows   \n",
       "3         678.0                    Pr102072        android   \n",
       "4          47.0                    Pr101111        android   \n",
       "\n",
       "  Recently_Viewed_Product  Pageloads_last_7_days  Clicks_last_7_days  \n",
       "0                  P12345                      0                   0  \n",
       "1                  P12345                      1                   2  \n",
       "2                  P12345                      1                   0  \n",
       "3                  P12345                      2                   0  \n",
       "4                  P12345                      1                   0  "
      ]
     },
     "execution_count": 42,
     "metadata": {},
     "output_type": "execute_result"
    }
   ],
   "source": [
    "f_file.head()"
   ]
  },
  {
   "cell_type": "code",
   "execution_count": 48,
   "id": "3e1e7c24",
   "metadata": {},
   "outputs": [
    {
     "name": "stdout",
     "output_type": "stream",
     "text": [
      "<class 'pandas.core.frame.DataFrame'>\n",
      "RangeIndex: 34050 entries, 0 to 34049\n",
      "Data columns (total 9 columns):\n",
      " #   Column                         Non-Null Count  Dtype  \n",
      "---  ------                         --------------  -----  \n",
      " 0   UserID                         34050 non-null  object \n",
      " 1   No_of_days_Visited_7_Days      34050 non-null  int64  \n",
      " 2   No_Of_Products_Viewed_15_Days  34050 non-null  int64  \n",
      " 3   User_Vintage                   33429 non-null  float64\n",
      " 4   Most_Viewed_product_15_Days    34050 non-null  object \n",
      " 5   Most_Active_OS                 34050 non-null  object \n",
      " 6   Recently_Viewed_Product        34050 non-null  object \n",
      " 7   Pageloads_last_7_days          34050 non-null  int64  \n",
      " 8   Clicks_last_7_days             34050 non-null  int64  \n",
      "dtypes: float64(1), int64(4), object(4)\n",
      "memory usage: 2.3+ MB\n"
     ]
    }
   ],
   "source": [
    "f_file.info()"
   ]
  },
  {
   "cell_type": "code",
   "execution_count": null,
   "id": "4ff02bf6",
   "metadata": {},
   "outputs": [],
   "source": [
    "feature_1= pd.merge(\n",
    "    left=s,\n",
    "    right=user_vintage,\n",
    "    how=\"outer\",\n",
    "    on='UserID',\n",
    "    copy=True)"
   ]
  },
  {
   "cell_type": "code",
   "execution_count": null,
   "id": "16968074",
   "metadata": {},
   "outputs": [],
   "source": []
  },
  {
   "cell_type": "code",
   "execution_count": null,
   "id": "e9d79758",
   "metadata": {},
   "outputs": [],
   "source": []
  },
  {
   "cell_type": "markdown",
   "id": "dd06d2db",
   "metadata": {},
   "source": [
    "# outlier handling in time"
   ]
  },
  {
   "cell_type": "markdown",
   "id": "bdf8024d",
   "metadata": {},
   "source": [
    "most e-commerce started in 1994 and we need upto may 28"
   ]
  },
  {
   "cell_type": "code",
   "execution_count": 26,
   "id": "0293d32d",
   "metadata": {},
   "outputs": [],
   "source": [
    "vis=vis[vis[\"VisitDateTime\"]>\"1994-01-01\"]\n",
    "vis=vis[vis[\"VisitDateTime\"]<\"2018-05-28\"]"
   ]
  },
  {
   "cell_type": "code",
   "execution_count": 38,
   "id": "00197d21",
   "metadata": {},
   "outputs": [
    {
     "data": {
      "text/html": [
       "<div>\n",
       "<style scoped>\n",
       "    .dataframe tbody tr th:only-of-type {\n",
       "        vertical-align: middle;\n",
       "    }\n",
       "\n",
       "    .dataframe tbody tr th {\n",
       "        vertical-align: top;\n",
       "    }\n",
       "\n",
       "    .dataframe thead th {\n",
       "        text-align: right;\n",
       "    }\n",
       "</style>\n",
       "<table border=\"1\" class=\"dataframe\">\n",
       "  <thead>\n",
       "    <tr style=\"text-align: right;\">\n",
       "      <th></th>\n",
       "      <th>vintage</th>\n",
       "    </tr>\n",
       "  </thead>\n",
       "  <tbody>\n",
       "    <tr>\n",
       "      <th>count</th>\n",
       "      <td>529682</td>\n",
       "    </tr>\n",
       "    <tr>\n",
       "      <th>mean</th>\n",
       "      <td>32 days 04:48:50.990292288</td>\n",
       "    </tr>\n",
       "    <tr>\n",
       "      <th>std</th>\n",
       "      <td>352 days 00:12:48.512196152</td>\n",
       "    </tr>\n",
       "    <tr>\n",
       "      <th>min</th>\n",
       "      <td>1 days 00:00:00</td>\n",
       "    </tr>\n",
       "    <tr>\n",
       "      <th>25%</th>\n",
       "      <td>6 days 00:00:00</td>\n",
       "    </tr>\n",
       "    <tr>\n",
       "      <th>50%</th>\n",
       "      <td>11 days 00:00:00</td>\n",
       "    </tr>\n",
       "    <tr>\n",
       "      <th>75%</th>\n",
       "      <td>17 days 00:00:00</td>\n",
       "    </tr>\n",
       "    <tr>\n",
       "      <th>max</th>\n",
       "      <td>8908 days 00:00:00</td>\n",
       "    </tr>\n",
       "  </tbody>\n",
       "</table>\n",
       "</div>"
      ],
      "text/plain": [
       "                           vintage\n",
       "count                       529682\n",
       "mean    32 days 04:48:50.990292288\n",
       "std    352 days 00:12:48.512196152\n",
       "min                1 days 00:00:00\n",
       "25%                6 days 00:00:00\n",
       "50%               11 days 00:00:00\n",
       "75%               17 days 00:00:00\n",
       "max             8908 days 00:00:00"
      ]
     },
     "execution_count": 38,
     "metadata": {},
     "output_type": "execute_result"
    }
   ],
   "source": [
    "vis.describe()"
   ]
  },
  {
   "cell_type": "code",
   "execution_count": null,
   "id": "4c5b7495",
   "metadata": {},
   "outputs": [],
   "source": [
    "#vintage days"
   ]
  },
  {
   "cell_type": "code",
   "execution_count": 28,
   "id": "247883b4",
   "metadata": {},
   "outputs": [],
   "source": [
    "vis[\"Date\"]=pd.to_datetime(vis[\"VisitDateTime\"]).dt.date"
   ]
  },
  {
   "cell_type": "code",
   "execution_count": 29,
   "id": "eb76ac0a",
   "metadata": {},
   "outputs": [],
   "source": [
    "vis[\"Date\"]=vis[\"Date\"].astype(\"category\")\n",
    "vis[\"Date\"]=vis[\"Date\"].astype('datetime64[ns]')"
   ]
  },
  {
   "cell_type": "code",
   "execution_count": 37,
   "id": "25a94124",
   "metadata": {},
   "outputs": [
    {
     "data": {
      "text/html": [
       "<div>\n",
       "<style scoped>\n",
       "    .dataframe tbody tr th:only-of-type {\n",
       "        vertical-align: middle;\n",
       "    }\n",
       "\n",
       "    .dataframe tbody tr th {\n",
       "        vertical-align: top;\n",
       "    }\n",
       "\n",
       "    .dataframe thead th {\n",
       "        text-align: right;\n",
       "    }\n",
       "</style>\n",
       "<table border=\"1\" class=\"dataframe\">\n",
       "  <thead>\n",
       "    <tr style=\"text-align: right;\">\n",
       "      <th></th>\n",
       "      <th>VisitDateTime</th>\n",
       "      <th>ProductID</th>\n",
       "      <th>UserID</th>\n",
       "      <th>Activity</th>\n",
       "      <th>OS</th>\n",
       "      <th>Date</th>\n",
       "      <th>vintage</th>\n",
       "    </tr>\n",
       "  </thead>\n",
       "  <tbody>\n",
       "    <tr>\n",
       "      <th>23</th>\n",
       "      <td>2018-05-10 06:28:53.391</td>\n",
       "      <td>Pr100241</td>\n",
       "      <td>U132443</td>\n",
       "      <td>pageload</td>\n",
       "      <td>windows</td>\n",
       "      <td>2018-05-10</td>\n",
       "      <td>18 days</td>\n",
       "    </tr>\n",
       "    <tr>\n",
       "      <th>24</th>\n",
       "      <td>2018-05-08 12:40:02.153</td>\n",
       "      <td>Pr100495</td>\n",
       "      <td>U134616</td>\n",
       "      <td>click</td>\n",
       "      <td>windows</td>\n",
       "      <td>2018-05-08</td>\n",
       "      <td>20 days</td>\n",
       "    </tr>\n",
       "    <tr>\n",
       "      <th>33</th>\n",
       "      <td>2018-05-11 15:35:43.689</td>\n",
       "      <td>Pr100363</td>\n",
       "      <td>U130784</td>\n",
       "      <td>click</td>\n",
       "      <td>rare</td>\n",
       "      <td>2018-05-11</td>\n",
       "      <td>17 days</td>\n",
       "    </tr>\n",
       "    <tr>\n",
       "      <th>50</th>\n",
       "      <td>2018-05-19 00:02:31.347</td>\n",
       "      <td>Pr100340</td>\n",
       "      <td>U120983</td>\n",
       "      <td>click</td>\n",
       "      <td>windows</td>\n",
       "      <td>2018-05-19</td>\n",
       "      <td>9 days</td>\n",
       "    </tr>\n",
       "    <tr>\n",
       "      <th>54</th>\n",
       "      <td>2018-05-19 04:51:45.337</td>\n",
       "      <td>Pr100166</td>\n",
       "      <td>U120287</td>\n",
       "      <td>click</td>\n",
       "      <td>windows</td>\n",
       "      <td>2018-05-19</td>\n",
       "      <td>9 days</td>\n",
       "    </tr>\n",
       "  </tbody>\n",
       "</table>\n",
       "</div>"
      ],
      "text/plain": [
       "             VisitDateTime ProductID   UserID  Activity       OS       Date  \\\n",
       "23 2018-05-10 06:28:53.391  Pr100241  U132443  pageload  windows 2018-05-10   \n",
       "24 2018-05-08 12:40:02.153  Pr100495  U134616     click  windows 2018-05-08   \n",
       "33 2018-05-11 15:35:43.689  Pr100363  U130784     click     rare 2018-05-11   \n",
       "50 2018-05-19 00:02:31.347  Pr100340  U120983     click  windows 2018-05-19   \n",
       "54 2018-05-19 04:51:45.337  Pr100166  U120287     click  windows 2018-05-19   \n",
       "\n",
       "   vintage  \n",
       "23 18 days  \n",
       "24 20 days  \n",
       "33 17 days  \n",
       "50  9 days  \n",
       "54  9 days  "
      ]
     },
     "execution_count": 37,
     "metadata": {},
     "output_type": "execute_result"
    }
   ],
   "source": [
    "vis.head()"
   ]
  },
  {
   "cell_type": "code",
   "execution_count": 33,
   "id": "59eca159",
   "metadata": {},
   "outputs": [],
   "source": [
    "last_day=datetime.datetime(2018,5,28)"
   ]
  },
  {
   "cell_type": "code",
   "execution_count": 36,
   "id": "10949c39",
   "metadata": {},
   "outputs": [],
   "source": [
    "vis[\"vintage\"]=-(vis[\"Date\"]-last_day)"
   ]
  },
  {
   "cell_type": "code",
   "execution_count": 53,
   "id": "89db5814",
   "metadata": {},
   "outputs": [],
   "source": [
    "vis[\"vintage\"]=vis[\"vintage\"].dt.days"
   ]
  },
  {
   "cell_type": "code",
   "execution_count": 54,
   "id": "7c6cc76c",
   "metadata": {},
   "outputs": [],
   "source": [
    "user_vintage=vis.groupby([\"UserID\"])[\"vintage\"].max()"
   ]
  },
  {
   "cell_type": "code",
   "execution_count": 55,
   "id": "c3f03113",
   "metadata": {},
   "outputs": [],
   "source": [
    "feature_1= pd.merge(\n",
    "    left=f_file,\n",
    "    right=user_vintage,\n",
    "    how=\"left\",\n",
    "    on='UserID',\n",
    "    copy=True)"
   ]
  },
  {
   "cell_type": "code",
   "execution_count": 56,
   "id": "23c88517",
   "metadata": {},
   "outputs": [
    {
     "data": {
      "text/plain": [
       "UserID                           0.000000\n",
       "No_of_days_Visited_7_Days        0.000000\n",
       "No_Of_Products_Viewed_15_Days    0.000000\n",
       "User_Vintage                     0.018238\n",
       "Most_Viewed_product_15_Days      0.000000\n",
       "Most_Active_OS                   0.000000\n",
       "Recently_Viewed_Product          0.000000\n",
       "Pageloads_last_7_days            0.000000\n",
       "Clicks_last_7_days               0.000000\n",
       "vintage                          0.040323\n",
       "dtype: float64"
      ]
     },
     "execution_count": 56,
     "metadata": {},
     "output_type": "execute_result"
    }
   ],
   "source": [
    "feature_1.isnull().mean()"
   ]
  },
  {
   "cell_type": "code",
   "execution_count": 57,
   "id": "5b726640",
   "metadata": {},
   "outputs": [],
   "source": [
    "feature_1[\"User_Vintage\"]=feature_1[\"vintage\"]"
   ]
  },
  {
   "cell_type": "code",
   "execution_count": 58,
   "id": "b73ecdc2",
   "metadata": {},
   "outputs": [
    {
     "data": {
      "text/html": [
       "<div>\n",
       "<style scoped>\n",
       "    .dataframe tbody tr th:only-of-type {\n",
       "        vertical-align: middle;\n",
       "    }\n",
       "\n",
       "    .dataframe tbody tr th {\n",
       "        vertical-align: top;\n",
       "    }\n",
       "\n",
       "    .dataframe thead th {\n",
       "        text-align: right;\n",
       "    }\n",
       "</style>\n",
       "<table border=\"1\" class=\"dataframe\">\n",
       "  <thead>\n",
       "    <tr style=\"text-align: right;\">\n",
       "      <th></th>\n",
       "      <th>UserID</th>\n",
       "      <th>No_of_days_Visited_7_Days</th>\n",
       "      <th>No_Of_Products_Viewed_15_Days</th>\n",
       "      <th>User_Vintage</th>\n",
       "      <th>Most_Viewed_product_15_Days</th>\n",
       "      <th>Most_Active_OS</th>\n",
       "      <th>Recently_Viewed_Product</th>\n",
       "      <th>Pageloads_last_7_days</th>\n",
       "      <th>Clicks_last_7_days</th>\n",
       "      <th>vintage</th>\n",
       "    </tr>\n",
       "  </thead>\n",
       "  <tbody>\n",
       "    <tr>\n",
       "      <th>0</th>\n",
       "      <td>U100002</td>\n",
       "      <td>0</td>\n",
       "      <td>4</td>\n",
       "      <td>10.0</td>\n",
       "      <td>Pr101097</td>\n",
       "      <td>android</td>\n",
       "      <td>P12345</td>\n",
       "      <td>0</td>\n",
       "      <td>0</td>\n",
       "      <td>10.0</td>\n",
       "    </tr>\n",
       "    <tr>\n",
       "      <th>1</th>\n",
       "      <td>U100003</td>\n",
       "      <td>3</td>\n",
       "      <td>4</td>\n",
       "      <td>15.0</td>\n",
       "      <td>Pr100178</td>\n",
       "      <td>windows</td>\n",
       "      <td>P12345</td>\n",
       "      <td>1</td>\n",
       "      <td>2</td>\n",
       "      <td>15.0</td>\n",
       "    </tr>\n",
       "    <tr>\n",
       "      <th>2</th>\n",
       "      <td>U100004</td>\n",
       "      <td>1</td>\n",
       "      <td>25</td>\n",
       "      <td>15.0</td>\n",
       "      <td>Product101</td>\n",
       "      <td>windows</td>\n",
       "      <td>P12345</td>\n",
       "      <td>1</td>\n",
       "      <td>0</td>\n",
       "      <td>15.0</td>\n",
       "    </tr>\n",
       "    <tr>\n",
       "      <th>3</th>\n",
       "      <td>U100005</td>\n",
       "      <td>2</td>\n",
       "      <td>4</td>\n",
       "      <td>19.0</td>\n",
       "      <td>Pr102072</td>\n",
       "      <td>android</td>\n",
       "      <td>P12345</td>\n",
       "      <td>2</td>\n",
       "      <td>0</td>\n",
       "      <td>19.0</td>\n",
       "    </tr>\n",
       "    <tr>\n",
       "      <th>4</th>\n",
       "      <td>U100006</td>\n",
       "      <td>1</td>\n",
       "      <td>1</td>\n",
       "      <td>7.0</td>\n",
       "      <td>Pr101111</td>\n",
       "      <td>android</td>\n",
       "      <td>P12345</td>\n",
       "      <td>1</td>\n",
       "      <td>0</td>\n",
       "      <td>7.0</td>\n",
       "    </tr>\n",
       "  </tbody>\n",
       "</table>\n",
       "</div>"
      ],
      "text/plain": [
       "    UserID  No_of_days_Visited_7_Days  No_Of_Products_Viewed_15_Days  \\\n",
       "0  U100002                          0                              4   \n",
       "1  U100003                          3                              4   \n",
       "2  U100004                          1                             25   \n",
       "3  U100005                          2                              4   \n",
       "4  U100006                          1                              1   \n",
       "\n",
       "   User_Vintage Most_Viewed_product_15_Days Most_Active_OS  \\\n",
       "0          10.0                    Pr101097        android   \n",
       "1          15.0                    Pr100178        windows   \n",
       "2          15.0                  Product101        windows   \n",
       "3          19.0                    Pr102072        android   \n",
       "4           7.0                    Pr101111        android   \n",
       "\n",
       "  Recently_Viewed_Product  Pageloads_last_7_days  Clicks_last_7_days  vintage  \n",
       "0                  P12345                      0                   0     10.0  \n",
       "1                  P12345                      1                   2     15.0  \n",
       "2                  P12345                      1                   0     15.0  \n",
       "3                  P12345                      2                   0     19.0  \n",
       "4                  P12345                      1                   0      7.0  "
      ]
     },
     "execution_count": 58,
     "metadata": {},
     "output_type": "execute_result"
    }
   ],
   "source": [
    "feature_1.head()"
   ]
  },
  {
   "cell_type": "code",
   "execution_count": 59,
   "id": "2725a68a",
   "metadata": {},
   "outputs": [],
   "source": [
    "feature_1.drop(columns=\"vintage\",inplace=True)"
   ]
  },
  {
   "cell_type": "code",
   "execution_count": 60,
   "id": "454d67ed",
   "metadata": {},
   "outputs": [],
   "source": [
    "feature_1.fillna(value=0,inplace=True)"
   ]
  },
  {
   "cell_type": "code",
   "execution_count": 64,
   "id": "68e132ad",
   "metadata": {},
   "outputs": [],
   "source": [
    "feature_1.to_csv(\"checklast.csv\",index=False)"
   ]
  },
  {
   "cell_type": "code",
   "execution_count": null,
   "id": "6fb270f4",
   "metadata": {},
   "outputs": [],
   "source": []
  },
  {
   "cell_type": "code",
   "execution_count": null,
   "id": "35f6b90f",
   "metadata": {},
   "outputs": [],
   "source": []
  },
  {
   "cell_type": "code",
   "execution_count": null,
   "id": "7beb99ce",
   "metadata": {},
   "outputs": [],
   "source": [
    "combined_data=pd.merge(left=vis,right=usr,how=\"outer\",on=\"UserID\",copy=True)"
   ]
  },
  {
   "cell_type": "code",
   "execution_count": null,
   "id": "57babf88",
   "metadata": {},
   "outputs": [],
   "source": [
    "feature"
   ]
  },
  {
   "cell_type": "code",
   "execution_count": null,
   "id": "69473a85",
   "metadata": {},
   "outputs": [],
   "source": []
  },
  {
   "cell_type": "code",
   "execution_count": null,
   "id": "0f55e453",
   "metadata": {},
   "outputs": [],
   "source": []
  },
  {
   "cell_type": "markdown",
   "id": "0ceb994f",
   "metadata": {},
   "source": []
  },
  {
   "cell_type": "code",
   "execution_count": null,
   "id": "780395d1",
   "metadata": {},
   "outputs": [],
   "source": [
    "combined_data.info()"
   ]
  },
  {
   "cell_type": "code",
   "execution_count": null,
   "id": "4945ebce",
   "metadata": {},
   "outputs": [],
   "source": [
    "combined_data.describe()"
   ]
  },
  {
   "cell_type": "markdown",
   "id": "ba3d0a9e",
   "metadata": {},
   "source": []
  },
  {
   "cell_type": "code",
   "execution_count": null,
   "id": "0d44065c",
   "metadata": {},
   "outputs": [],
   "source": [
    "combined_data.isnull().mean()"
   ]
  },
  {
   "cell_type": "markdown",
   "id": "e7845e1d",
   "metadata": {},
   "source": [
    "# fillna"
   ]
  },
  {
   "cell_type": "code",
   "execution_count": null,
   "id": "10e5057f",
   "metadata": {},
   "outputs": [],
   "source": [
    "combined_data.ProductID.fillna(value=\"Product101\",inplace=True)"
   ]
  },
  {
   "cell_type": "code",
   "execution_count": null,
   "id": "2743d61e",
   "metadata": {},
   "outputs": [],
   "source": [
    "combined_data.Activity.fillna(value=\"pageload\",inplace=True)"
   ]
  },
  {
   "cell_type": "code",
   "execution_count": null,
   "id": "06875b28",
   "metadata": {},
   "outputs": [],
   "source": [
    "combined_data.OS.fillna(value=\"other\",inplace=True)"
   ]
  },
  {
   "cell_type": "code",
   "execution_count": null,
   "id": "f536326f",
   "metadata": {},
   "outputs": [],
   "source": [
    "combined_data.ProductID.fillna(value=\"Product101\",inplace=True)"
   ]
  },
  {
   "cell_type": "code",
   "execution_count": null,
   "id": "22b00132",
   "metadata": {},
   "outputs": [],
   "source": []
  },
  {
   "cell_type": "code",
   "execution_count": null,
   "id": "26c47b2c",
   "metadata": {},
   "outputs": [],
   "source": []
  },
  {
   "cell_type": "code",
   "execution_count": null,
   "id": "4aca2bc2",
   "metadata": {},
   "outputs": [],
   "source": [
    "combined_data[\"days\"]=combined_data[\"VisitDateTime\"]-combined_data[\"Signup Date\"]"
   ]
  },
  {
   "cell_type": "code",
   "execution_count": null,
   "id": "a6b32df2",
   "metadata": {},
   "outputs": [],
   "source": []
  }
 ],
 "metadata": {
  "kernelspec": {
   "display_name": "Python 3",
   "language": "python",
   "name": "python3"
  },
  "language_info": {
   "codemirror_mode": {
    "name": "ipython",
    "version": 3
   },
   "file_extension": ".py",
   "mimetype": "text/x-python",
   "name": "python",
   "nbconvert_exporter": "python",
   "pygments_lexer": "ipython3",
   "version": "3.8.8"
  }
 },
 "nbformat": 4,
 "nbformat_minor": 5
}
